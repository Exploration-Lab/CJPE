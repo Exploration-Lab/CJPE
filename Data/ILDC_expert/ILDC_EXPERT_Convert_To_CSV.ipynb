{
  "nbformat": 4,
  "nbformat_minor": 0,
  "metadata": {
    "colab": {
      "provenance": []
    },
    "kernelspec": {
      "name": "python3",
      "display_name": "Python 3"
    },
    "language_info": {
      "name": "python"
    }
  },
  "cells": [
    {
      "cell_type": "code",
      "source": [
        "!unzip ILDC_expert.zip"
      ],
      "metadata": {
        "id": "LPfFxtLcmbZJ"
      },
      "execution_count": null,
      "outputs": []
    },
    {
      "cell_type": "code",
      "source": [
        "import os\n",
        "import json\n",
        "import numpy as np\n",
        "import pandas as pd"
      ],
      "metadata": {
        "id": "a2IO4Hobob0i"
      },
      "execution_count": 36,
      "outputs": []
    },
    {
      "cell_type": "code",
      "source": [
        "path = \"ILDC_expert/annotation/\"\n",
        "output_path = \"ILDC_expert/annotation_in_csv/\" ## Give path where you need the converted json files in csv"
      ],
      "metadata": {
        "id": "soP4Srk8mgy_"
      },
      "execution_count": 51,
      "outputs": []
    },
    {
      "cell_type": "code",
      "source": [
        "key_to_label = {\"ACCEPTED\": \"ACCEPTED\", \n",
        "                \"Accepted\": \"ACCEPTED\",\n",
        "                \"REJECTED\": \"REJECTED\", \n",
        "                \"Rejected\": \"REJECTED\",\n",
        "                \"RANK1\": \"RANK 1\",\n",
        "                \"Rank1\": \"RANK 1\",\n",
        "                \"Rank2\": \"RANK 2\",\n",
        "                \"Rank3\": \"RANK 3\",\n",
        "                \"Rank4\": \"RANK 4\",\n",
        "                \"Rank5\": \"RANK 5\",\n",
        "                \"Rank6\": \"RANK 6\",\n",
        "                \"Rank7\": \"RANK 7\",\n",
        "                \"Rank8\": \"RANK 8\",\n",
        "                \"Rank9\": \"RANK 9\"}"
      ],
      "metadata": {
        "id": "KpQ-169zo7dp"
      },
      "execution_count": 32,
      "outputs": []
    },
    {
      "cell_type": "code",
      "source": [
        "if not os.path.exists(output_path):\n",
        "    os.mkdir(output_path)"
      ],
      "metadata": {
        "id": "l7QNmsKaydFe"
      },
      "execution_count": 47,
      "outputs": []
    },
    {
      "cell_type": "code",
      "source": [
        "for case in os.listdir(path):\n",
        "    curr_path = os.path.join(path, case)\n",
        "    if not os.path.exists(os.path.join(output_path, case)):\n",
        "        os.mkdir(os.path.join(output_path, case))\n",
        "    for user in os.listdir(curr_path):\n",
        "        try:\n",
        "            with open(os.path.join(curr_path, user),\"r\") as f:\n",
        "                data = json.load(f)\n",
        "                f.close()\n",
        "            for key in data['_referenced_fss'].keys():\n",
        "                case_text = data['_referenced_fss'][key]['sofaString']\n",
        "            rows = []\n",
        "            for key in list(data['_views']['_InitialView'].keys()):\n",
        "                if key in key_to_label.keys():\n",
        "                    for sent in data['_views']['_InitialView'][key]:\n",
        "                        curr = {}             \n",
        "                        curr[\"TEXT\"] = case_text[sent['begin']: sent['end']]\n",
        "                        curr[\"LABEL\"] = key_to_label[key]\n",
        "                        rows.append(curr)\n",
        "            df = pd.DataFrame(rows)\n",
        "            df.to_csv(os.path.join(os.path.join(output_path, case), user[:-4]+\".csv\"))\n",
        "        except:\n",
        "            continue"
      ],
      "metadata": {
        "id": "SdneiWwLoeBh"
      },
      "execution_count": 50,
      "outputs": []
    }
  ]
}