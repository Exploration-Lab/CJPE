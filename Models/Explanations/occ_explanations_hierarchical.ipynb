{
  "nbformat": 4,
  "nbformat_minor": 0,
  "metadata": {
    "colab": {
      "name": "Untitled0.ipynb",
      "provenance": [],
      "collapsed_sections": []
    },
    "kernelspec": {
      "name": "python3",
      "display_name": "Python 3"
    },
    "accelerator": "GPU"
  },
  "cells": [
    {
      "cell_type": "code",
      "metadata": {
        "id": "g-6uJ1a_Yk64",
        "colab_type": "code",
        "colab": {}
      },
      "source": [
        "!pip install transformers"
      ],
      "execution_count": null,
      "outputs": []
    },
    {
      "cell_type": "code",
      "metadata": {
        "id": "oJ376E83Z2RY",
        "colab_type": "code",
        "colab": {}
      },
      "source": [
        "from google.colab import drive\n",
        "drive.mount(\"/content/Drive\")"
      ],
      "execution_count": null,
      "outputs": []
    },
    {
      "cell_type": "code",
      "metadata": {
        "id": "_OztoxZNaSLF",
        "colab_type": "code",
        "colab": {}
      },
      "source": [
        "import os\n",
        "import random\n",
        "import pandas as pd\n",
        "import numpy as np\n",
        "import csv\n",
        "import tensorflow as tf\n",
        "import torch\n",
        "from sklearn.model_selection import train_test_split\n",
        "from google.colab import drive\n",
        "from sklearn.metrics import f1_score\n",
        "from sklearn.metrics import precision_recall_curve\n",
        "from sklearn.metrics import f1_score\n",
        "from sklearn.metrics import confusion_matrix\n",
        "import textwrap\n",
        "import progressbar\n",
        "import keras\n",
        "from keras.preprocessing.sequence import pad_sequences\n",
        "from transformers import XLNetForSequenceClassification, AdamW, XLNetConfig, XLNetTokenizer\n",
        "from transformers import get_linear_schedule_with_warmup\n",
        "import time\n",
        "import datetime\n",
        "import random\n",
        "import nltk\n",
        "from nltk.stem import PorterStemmer \n",
        "from nltk.tokenize import word_tokenize \n",
        "import nltk.data\n",
        "import progressbar\n",
        "import itertools\n",
        "from numpy import load"
      ],
      "execution_count": null,
      "outputs": []
    },
    {
      "cell_type": "code",
      "metadata": {
        "id": "ZaA6WZ2OaSTa",
        "colab_type": "code",
        "colab": {}
      },
      "source": [
        "device = torch.device('cuda' if torch.cuda.is_available() else 'cpu')\n",
        "model_dir = \"/content/Drive/My Drive/XLNet_right_model/\"\n",
        "tokenizer = XLNetTokenizer.from_pretrained(model_dir)\n",
        "model = XLNetForSequenceClassification.from_pretrained(model_dir, output_hidden_states=True)\n",
        "model.to(device)"
      ],
      "execution_count": null,
      "outputs": []
    },
    {
      "cell_type": "code",
      "metadata": {
        "id": "cBPMp3NVaSa2",
        "colab_type": "code",
        "colab": {
          "base_uri": "https://localhost:8080/",
          "height": 51
        },
        "outputId": "5c5aa864-1986-408b-85ce-ceb4908876e6"
      },
      "source": [
        "nltk.download('punkt')\n",
        "nltk_tokenizer = nltk.data.load('tokenizers/punkt/english.pickle')\n",
        "df = pd.read_csv(\"/content/Drive/My Drive/LNLP/anno_dataset.csv\")\n",
        "pred_labels = [1,1,0,1,0,0,0,1,0,0,0,1,1,0,0,0,1,0,0,1,1,1,1,0,1,0,0,1,0,0,0,0,0,0,1,0,0,0,1,1,1,1,0,0,1,0,0,0,0,0,1,0,1,0,1,0]\n",
        "#model, tokenizer, pred labels and all the libraries are ready"
      ],
      "execution_count": null,
      "outputs": [
        {
          "output_type": "stream",
          "text": [
            "[nltk_data] Downloading package punkt to /root/nltk_data...\n",
            "[nltk_data]   Unzipping tokenizers/punkt.zip.\n"
          ],
          "name": "stdout"
        }
      ]
    },
    {
      "cell_type": "code",
      "metadata": {
        "id": "7sCmge8JaSiO",
        "colab_type": "code",
        "colab": {}
      },
      "source": [
        "\n",
        "chunk_scores = load(\"/content/Drive/My Drive/LNLP/EXP/Hierexp/XLNet_2layer_noatt_3epoch/occwts.npy\", allow_pickle = True)\n",
        "chunk_scores = list(chunk_scores)"
      ],
      "execution_count": null,
      "outputs": []
    },
    {
      "cell_type": "code",
      "metadata": {
        "id": "6zGrHacJaSpj",
        "colab_type": "code",
        "colab": {}
      },
      "source": [
        "def xlnet_tokenize(sents, tokenizer):\n",
        "  tok_sents = []\n",
        "  for sen in sents:\n",
        "    tok_sents.append(tokenizer.tokenize(sen))\n",
        "\n",
        "  return tok_sents\n",
        "\n",
        "\n",
        "\n",
        "\n",
        "def sentence_marker(tokenized_sents):\n",
        "  marker_array = []\n",
        "  sent_num=1\n",
        "  for tokenized_sentence in tokenized_sents:\n",
        "    sentence_marker = []\n",
        "    for i in range(len(tokenized_sentence)):\n",
        "      if(i==0):\n",
        "        sentence_marker.append(sent_num)\n",
        "      else:\n",
        "        sentence_marker.append(0)\n",
        "\n",
        "    sent_num+=1\n",
        "    marker_array.append(sentence_marker)\n",
        "\n",
        "  return marker_array\n",
        "\n",
        "\n",
        "\n",
        "\n",
        "def chunked_tokens_maker(all_toks, markers):\n",
        "  splitted_toks = []\n",
        "  splitted_markers = []\n",
        "  l=0\n",
        "  r=510\n",
        "  while(l<len(all_toks)):\n",
        "    splitted_toks.append(all_toks[l:min(r,len(all_toks))])\n",
        "    splitted_markers.append(markers[l:min(r,len(markers))])\n",
        "    l+=410\n",
        "    r+=410\n",
        "\n",
        "  return splitted_toks, splitted_markers\n",
        "\n",
        "\n",
        "\n",
        "\n",
        "def calculate_num_of_sents(chunk_marker_list):\n",
        "  ct=0\n",
        "  for i in range(len(chunk_marker_list)):\n",
        "    if(chunk_marker_list[i] != 0):\n",
        "      ct+=1\n",
        "  \n",
        "  return ct-1\n",
        "\n",
        "\n",
        "\n",
        "def sentence_tokens_maker(marks, chunk_toks):\n",
        "  pair_of_ids = []\n",
        "  st = -1000\n",
        "  ed = -1000\n",
        "  for i,mark in enumerate(marks):\n",
        "    if(mark==-777):\n",
        "      st=i\n",
        "    \n",
        "    if(mark!=-777 and mark!=777 and mark!=0):\n",
        "      ed=i-1\n",
        "      pair_of_ids.append((st,ed))\n",
        "      st=i\n",
        "\n",
        "    if(mark==777):\n",
        "      ed=i\n",
        "      pair_of_ids.append((st,ed))\n",
        "\n",
        "  return pair_of_ids\n",
        "\n",
        "\n",
        "\n",
        "\n",
        "def att_masking(input_ids):\n",
        "  attention_masks = []\n",
        "  for sent in input_ids:\n",
        "    att_mask = [int(token_id > 0) for token_id in sent]\n",
        "    attention_masks.append(att_mask)\n",
        "  return attention_masks\n",
        "\n",
        "\n",
        "\n",
        "def get_output_for_one_vec(input_id, att_mask):\n",
        "  input_ids = torch.tensor(input_id)\n",
        "  att_masks = torch.tensor(att_mask)\n",
        "  input_ids = input_ids.unsqueeze(0)\n",
        "  att_masks = att_masks.unsqueeze(0)\n",
        "  model.eval()\n",
        "  input_ids = input_ids.to(device)\n",
        "  att_masks = att_masks.to(device)\n",
        "  with torch.no_grad():\n",
        "      logits, encoded_layers = model(input_ids=input_ids, token_type_ids=None, attention_mask=att_masks)\n",
        "\n",
        "  return logits\n",
        "\n",
        "\n",
        "\n",
        "\n",
        "def get_XLNet_output_logits(encoded_sents, tokenizer, model):\n",
        "  e_sents = []\n",
        "  e_sents.append(encoded_sents)\n",
        "  e_sents = pad_sequences(e_sents, maxlen=512, value=0, dtype=\"long\", padding=\"pre\")\n",
        "  att_masks = att_masking(e_sents)\n",
        "  return get_output_for_one_vec(e_sents[0], att_masks[0])\n",
        "\n",
        "\n",
        "def xlnet_detok(xtoks):\n",
        "  xtoks[0] = \"_\" + xtoks[0]\n",
        "  words = []\n",
        "  word = \"\"\n",
        "  for tok in xtoks:\n",
        "    if(tok[0] == \"▁\"):\n",
        "      words.append(word)\n",
        "      word = tok[1:]\n",
        "    else:\n",
        "      word+=tok\n",
        "\n",
        "  output = \"\"\n",
        "  for word in words[1:]:\n",
        "    output += (word + \" \")\n",
        "\n",
        "  return output"
      ],
      "execution_count": null,
      "outputs": []
    },
    {
      "cell_type": "code",
      "metadata": {
        "id": "ZmS2xx1eck8v",
        "colab_type": "code",
        "colab": {}
      },
      "source": [
        "def get_explanation(chunked_xlnet_tokens, chunked_markers, chunk_scores, doc_num, tokenizer, predicted_label):\n",
        "    explanation = \"\"\n",
        "    for chunk_number,score in enumerate(chunk_scores[doc_num]):\n",
        "        if(chunk_number == 0):\n",
        "          chunked_markers[chunk_number][0] = -777\n",
        "          chunked_markers[chunk_number][-1] = 777\n",
        "        else:\n",
        "          if(len(chunked_markers[chunk_number]) < 101):\n",
        "            continue\n",
        "          chunked_markers[chunk_number][100] = -777\n",
        "          chunked_markers[chunk_number][-1] = 777\n",
        "\n",
        "        if(score < 0):\n",
        "          continue\n",
        "\n",
        "        ct_sent = calculate_num_of_sents(chunked_markers[chunk_number])\n",
        "        #print(\"ct_sent: {:}\".format(ct_sent))\n",
        "        top_k = 0.4*ct_sent\n",
        "        dict_sent_to_score = {}\n",
        "        #print(len(chunked_markers[chunk_number]))\n",
        "        pair_of_ids = sentence_tokens_maker(chunked_markers[chunk_number], chunked_xlnet_tokens[chunk_number])\n",
        "        #print(pair_of_ids)\n",
        "        # lens = [len(t) for t in tokens_as_sentences_list]\n",
        "        # print(str(sum(lens)) + \"\\n\")\n",
        "\n",
        "        CLS = tokenizer.cls_token\n",
        "        SEP = tokenizer.sep_token\n",
        "        PAD = tokenizer.pad_token\n",
        "\n",
        "        original_logits = get_XLNet_output_logits(tokenizer.convert_tokens_to_ids(chunked_xlnet_tokens[chunk_number] + [SEP] + [CLS]), tokenizer, model)\n",
        "        original_score = float(original_logits[0][predicted_label])\n",
        "\n",
        "        for i in range(len(pair_of_ids)):\n",
        "            if(pair_of_ids[i][0] == -1000):\n",
        "              pair_of_ids[i] = (0,pair_of_ids[i][1]) \n",
        "            normalizing_length = pair_of_ids[i][1] - pair_of_ids[i][0] + 1\n",
        "            if(normalizing_length == 0):\n",
        "              continue\n",
        "            pad_sentence = [PAD]*normalizing_length\n",
        "            #print(\"pad_length = {:}\".format(len(pad_sentence)))\n",
        "            left = []\n",
        "            right = []\n",
        "            left = chunked_xlnet_tokens[chunk_number][:pair_of_ids[i][0]]\n",
        "            right = chunked_xlnet_tokens[chunk_number][pair_of_ids[i][1]+1:]\n",
        "        \n",
        "            final_tok_sequence = left + pad_sentence + right + [SEP] + [CLS]\n",
        "            #print(\"final_tok_sequence = {:}\".format(len(final_tok_sequence)))\n",
        "            encoded_sents = tokenizer.convert_tokens_to_ids(final_tok_sequence)\n",
        "            logits = get_XLNet_output_logits(encoded_sents, tokenizer, model)\n",
        "            score_for_predicted_label = float(logits[0][predicted_label])\n",
        "\n",
        "            sent_score = 100\n",
        "\n",
        "            if(score_for_predicted_label > original_score):\n",
        "              sent_score = -1*(score_for_predicted_label - original_score)\n",
        "            else:\n",
        "              sent_score = original_score - score_for_predicted_label\n",
        "\n",
        "            sent_score_norm = sent_score/normalizing_length\n",
        "            sentence_in_words = xlnet_detok(chunked_xlnet_tokens[chunk_number][pair_of_ids[i][0]:pair_of_ids[i][1]+1])\n",
        "            dict_sent_to_score[sentence_in_words] = sent_score_norm\n",
        "\n",
        "        sort_scores = sorted(dict_sent_to_score.items(), key=lambda x: x[1], reverse=True)\n",
        "        sorted_sentences =[]\n",
        "        for i in sort_scores:\n",
        "          sorted_sentences.append(i[0])\n",
        "\n",
        "        for sentence in sorted_sentences[:int(top_k)]:\n",
        "          explanation+=sentence\n",
        "\n",
        "      \n",
        "    return explanation"
      ],
      "execution_count": null,
      "outputs": []
    },
    {
      "cell_type": "code",
      "metadata": {
        "id": "rSqxBxNWdFxX",
        "colab_type": "code",
        "colab": {
          "base_uri": "https://localhost:8080/",
          "height": 34
        },
        "outputId": "534d8a89-381a-4a28-a7cd-deb7cbc77241"
      },
      "source": [
        "final_explanations = {}\n",
        "for i in progressbar.progressbar(range(len(df[\"text\"]))):\n",
        "  doc_text = df[\"text\"].iloc[i]\n",
        "  doc_name = df[\"name\"].iloc[i]\n",
        "  sents = nltk_tokenizer.tokenize(doc_text)\n",
        "  xlnet_tokenized_sents = xlnet_tokenize(sents, tokenizer)\n",
        "  marked_tokenized_sents = sentence_marker(xlnet_tokenized_sents)\n",
        "  xlnet_tokens = list(itertools.chain.from_iterable(xlnet_tokenized_sents))\n",
        "  markers = list(itertools.chain.from_iterable(marked_tokenized_sents))\n",
        "  if(len(xlnet_tokens) > 10000):\n",
        "    xlnet_tokens = xlnet_tokens[len(xlnet_tokens)-10000:]\n",
        "    markers = markers[len(markers)-10000:]\n",
        "\n",
        "  chunked_xlnet_tokens, chunked_markers = chunked_tokens_maker(xlnet_tokens, markers)\n",
        "\n",
        "  explanation_of_this_doc = get_explanation(chunked_xlnet_tokens, chunked_markers, chunk_scores, i, tokenizer, pred_labels[i])\n",
        "  final_explanations[doc_name] = explanation_of_this_doc"
      ],
      "execution_count": null,
      "outputs": [
        {
          "output_type": "stream",
          "text": [
            "100% (56 of 56) |########################| Elapsed Time: 0:10:38 Time:  0:10:38\n"
          ],
          "name": "stderr"
        }
      ]
    },
    {
      "cell_type": "code",
      "metadata": {
        "id": "t20otNQTdj1J",
        "colab_type": "code",
        "colab": {}
      },
      "source": [
        "import json\n",
        "json_file = open(\"occ_exp_full.json\", \"w\")\n",
        "json.dump(final_explanations, json_file)"
      ],
      "execution_count": null,
      "outputs": []
    },
    {
      "cell_type": "code",
      "metadata": {
        "id": "kcyHqXoEdj9E",
        "colab_type": "code",
        "colab": {}
      },
      "source": [
        "json_file = open(\"occ_exp_full.json\",\"r\")\n",
        "data = json.load(json_file)"
      ],
      "execution_count": null,
      "outputs": []
    },
    {
      "cell_type": "code",
      "metadata": {
        "id": "8J2arndPdkGO",
        "colab_type": "code",
        "colab": {
          "base_uri": "https://localhost:8080/",
          "height": 54
        },
        "outputId": "4790bd9f-bc63-4bfa-821b-3efef82127e2"
      },
      "source": [
        "print(data)"
      ],
      "execution_count": null,
      "outputs": [
        {
          "output_type": "stream",
          "text": [
            "{'1962_213.txt': 'order to substantiate the charge against him the complainant number respondents examined himself and a number of also adduced in evidence a certain document marketed of the companystitution is directed against the order of a division bench of the calcutta high companyrt dated december 21 1960 setting aside the order of acquittal passed by the trial magistrate dated july 2 1958. we heard this appeal on the eve of the long vacation and pronumbernced our order to the effect that the appeal was allowed and the order of acquittal was to stand and that reasons would be given appellant defense was that the case against him was false and that he had been falsely implicated for reasons which need number be to him as a lawyer on behalf of the order to substantiate the charge against him the complainant number respondents examined himself and a number of also adduced in evidence a certain document marketed it companyld have pronumbernced its judgment one way or the other on the merits of the companytroversy whether or number the prosecution had succeeded in bringing the charge home to the trial companyrt on an examination of-the evidence oral and documentary came to the conclusion that the case against the accused had number been proved and acquitted was a very important piece of evidence which if genuine companyld go a long way to prove the case against the accused was thus that document were in the hand of the respondent companyment was also made by the magistrate on the appellants failure to call expert between the parties it is as much necessary in the interest of the prosecution as one sense that comment was justified but in a case of this kind between lawyer and client we think the matter cannumber be left where it this case the complainant had the fullest opportunity of adducing all the evidence that he was advised would be necessary to prove the charge against the accused prosecution took its chance of having a decision in its favour on the evidence adduced by it before the trial to all criminal trials and in our opinion the had to apply the same rules of criminal jurisprudence our opinion the high companyrt gave way to companysiderations which were number relevant to a criminal being so the high companyrt in our judgment entirely misdirected itself in setting aside the order of acquittal and making an order for a fresh trial by anumberher magistrate simply on the ground that the case was between a lawyer and his ', '1962_47.txt': 'it to say that the appeal was allowed on the ground that the respondents bad lost their right to recover possession from the appellants on their estate vesting in the state of bihar by virtue of and 4 of the bihar land reforms act 1950 bihar act xxx of 1950 hereinafter called the act and their having no subsisting right to recover possession from the purposes forming the subject matter of a subsisting mortgage on the redemption of which the intermediary is entitled to recover khas possession is companytended for the respondents who applied for the review of our judgment that our view that the mortgage was number subsisting on the date of vesting was was also hold that they companyld number get advantage of the provisions of amended relevant portion of s. 60 on which the respondents rely reads at any time after the principal money has become due the mortgagor has a right on payment or tender at a proper time and place of the mortgage-money to require the mortgagee to deliver to the mortgagor the mortgage deed and all documents relating to the mortgaged property which are in the possession of power of the mortgagee where the mortgagee is in possession of the mortgaged property to deliver possession thereof to the mortgagor and at the companyt of the mortgagor either to re-transfer the mortgaged property to him or to such third person as he may the mortgage money has been paid up numberquestion of appropriating the rents and profits accruing from the property towards interest or mortgage money can usufructuary mortgage by the terms of its definition authorises the mortgagee to retain possession only until payment of the mortgage money mortgage as a transfer of an interest in immoveable property for the purpose of securing payment of money advanced by way of loan must companye to an end on the payment of the mortgage money further the definition of usufructuary mort gage itself leads to the companyclusion that the authority given to the mortgagee to remain in possession of the mortgaged property ceases when the mortgage money has been paid provisions of the section do number say so and there appears numbergood reason why the mortgage should acknumberledg- ment in writing that any right in derogation of his interest transferred to the mortgagee has been extinguished provided that the right companyferred by this section has number been extinguished by the act of the parties or by decree of a mortgagor the mortgage deed and all documents relating to the mortgaged property which are in the possession of power of the mortgagee where the mortgagee is in possession of the mortgaged property to deliver possession thereof to the mortgagor and at the companyt of the mortgagor either to re-transfer the mortgaged property to him or to such third person as he may however the mortgage money has been received by the mortgagee and thereafter he refuses to perform the acts he is bound to do the mortgagor can enforce his right to get back the mortgage document the possession of the mortgaged property and the reconveyance of that property through right arises oh the principal money payment of which is secured by the mortgage deed becoming are other oases also which throw a light on this question and go against the companytention of the mentioned is however numberdocument or evidence to show that the mortgagees agreed to accept these lands in full satisfaction of their claims or promised to pay the sum of was only an agreement to companyvey the lands after three months and if at ail the question of extinction of the equity of redemption companyld arise on the companyveyance being executed but number second document executed by the mortgagor is a agreement to companyvey the lands after three was number even a party to that 498. reward promised to her for bringing about the willingness of her husband to agree to companyvey the mortgaged lands to the we see it that is number that event numberhing is necessary beyond the when it is by act of parties the act must take the shape and observe the formalities which the law the proviso to section 60 of the transfer of property act have that redemption carried out by the pro- cess of the various declarations and orders of the companyrt by which it effects ram prasad v. bishambhar singh 2 the question formulated for determination was whether the suit being a suit to recover possession of the mortgaged property after the mortgage money had been paid off was a suit against the mortgagee to redeem or to recover possession of immovable property v.rangnath 1 it was said number the right to redeem can only be extinguished by act of parties or by a decree of a ', '1951_35.txt': 'judgment debtor has paid to the decree holder the raja as sibait of a certain deity and his two sons the appellants before us objected to the attachment of these properties and filed a claim some time is required to settle the talks and all the terms was filed in the exe- cuting companyrt stating as follows - the judgment debtor having made special requests to the decree-holder for an amicable settlement of the aforesaid execution case the decree-holder has agreed to the 1936 deva prasanna started execution case number 118 of 1936 for execution of the personal decree and attached certain properties alleging that the same belonged to the is therefore rejected without any sort of entry in companyumn 20 under that head is h. admits receipt of as companyts of this case from the is therefore prayed that under the circumstances aforesaid the companyrt may be pleased to strike off this execution case keeping the attachment in some time is required to settle the talks and all the terms of this execution amounting to jointly ask me to cancel the attachment existing by special order in to deva prasanna in full settlement of his claim under the personal decree against the creditor however had filed a suit under sec- tion 53 of the transfer of property act challenging that transfer and had actually got a decree declaring that trans- fer as fradulent and void as against the creditors of the raja an appeal was filed by the kumars which was pending at the date of the kobala of january 4 1939 and in the circum- stances it was companysidered safer to join the raja in the last mentioned kobala in favour of deva companyrt of was also a prayer for reconveyance of the senapati necessary numberes and send this petition to the district record short they asked the companyrt to give them relief by exercising the powers given to the companyrt by section 36 of the adjusted after remission of a large amount of interest by the out and out sale of certain properties by a registered kobala dated 4th january 1939 so there is numberlonger any need of the said attachment remaining respondent filed his written statement setting up a variety of defences rounded on merits as well as on legal pleas in been based on the pleas in appellants preferred an appeal to the high companyrt at the high companyrt advocate for the respondent while joining issue on this point also raised a point which however did number find favour with the high companyrt namely that the respondent as a bona fide assignee for value of the mortgage debt was protected by sub-section 5 of section 36. it is quite clear that if either of the two points is decided against the appellants this appeal must and was protected by sub-section 5 of section 36. it is quite clear that if either of the two points is decided against the appellants this appeal must will be recalled that the order of january 30 1937 was made on a petition exhibit 2 filed on that day in execution case number 118 of 1936. great stress was laid by the learned advocate for the appellants on the words struck off for the present occurring in the body of that introduced left two distinct companyrses open to the executing companyrt in the situation envisaged by the rule thus amended leaves three companyrses open to the executing companyrt in case it finds it difficult to proceed with the execution case by reason of the default of the the adjournment of the execution pro- ceedings kept the attachment alive without any special is numbersubstance in this is what was done in this the attachment does number to use the expression of the learned advocate for the appellants hang in the following endorsement appears on the petition rests upon the solid foundation of a special order which rule 57 as amended in terms authorises the companyrt to of 1936 though that case was january 1937 which purported to dismiss the respondents execution case for number-prosecution while companytinuing the attachment already effected terminated the proceeding in execution which had resulted in the dismissal of 30th january 1987 must therefore be taken to be a dismissal of the execution application then before the companyrt and cannumber be taken to have any wider amendment which added the words unless the companyrt shall make an order to the companytrary at the end of the rule envisages a dismissal of an applica- tion for execution while at the same time companytinuing a subsisting instituted or filed on or after the 1st day of janu- ary 1939 or pending on that date and includes a proceeding in execution for among other things the recovery of a loan advanced before or after the companymencement of this the balance of the reduced debt after paying the sub-mortgagee in lordships cannumber agree with this to companytention b it is impossible to read subsec- tion 5 of section 36 as referring only to an assignee 1 50 can therefore as assignee of the mortgage debt claim his full of a mortgage and the sum due on the sub-mortgage by assignment for principal and interest at the original rate is if the court gives the mortgagor relief as against the original mortgagee the mortgagor will only be liable to pay to the original mortgagee by reason of sub-section 5 the sub- mortgagees rights cannumber be was in determining that issue that their lordships held that numberprivity of estate arose in india because a legal interest remained in the mortgagor and the interest taken by the mortgagee was number an absolute was from this point of view that the question as to the nature of the right transferred to a sub-mortgagee under his sub-mortgage was companysidered in cases had numberbearing on the question which arose in promode kumar roy v. nikhil bhusan mukhopadhya 1 and arises in the present case as to whether a sub-mortga- gee becomes an assignee of the mortgage debt and of the mortgagees right to recover the debt from the original the sub-mortgagee obtained by virtue of the sub- mortgage the right to sue the original mortgagor for recov- ery of the mortgage debt that would seem sufficient to make him an assignee within the meaning of the is a rather super- ficial view of the the mortgage companyld operate as an assign- ment of the entire interest of the mortgagor in the lease the mortgagee would be liable by privity of estate for the burdens of the bring the case within the purview of the ', '1953_74.txt': 'high companyrt returned an answer to the question in the negative after resettling it in these terms - whether on the facts and the j. this is appeal from the judgment of the high companyrt of judicature at bombay delivered on a reference under section 66 1 of the indian income-tax act 1922 whereby the high companyrt answered the first referred question in the business was taken over by a registered firm on march 17 1942. for the purpose of this appeal however this circumstance is number assessment in question companycern the year 1943-44. a hindu undivided family was carrying on business in bombay madras and the mysore case has been dealt with on the assumption that a single assessee carried on business from october 10 1948 to numberember 8 1942 the relevant accounting the instance of the companymissioner of income-tax excess profits tax bombay city three question were referred to the high companyrt under section 66 1 the first of these being - whether in the circumstances of the case can the profits on the sale of goods in the mysore state be deemed to accrue or arise in british india under section 42 1 of the india income-tax were profits deemed to accrue in british india and in including in the assessment a portion tax bombay city three question were referred to the high companyrt under section 66 1 the first of these being - whether in the circumstances of the case can the profits on the sale of goods in the mysore state be deemed to accrue or arise in british india under section 42 1 of the india income-tax a person number resident or number ordinarily resident in the taxable territories carries on business with a person resident in the taxable territories and it appears to the income-tax officer that owing to the close companynection between such persons the companyrse of business is so arranged that the business done by the resident person with the person number resident or number ordinarily resident produces to the resident either numberprofits or less than the ordinary profits which might be expected to arise in that business the profits derived therefrom or which may reasonably be deemed to have been derived therefrom shall be chargeable to income-tax in the purposes of this act the assessee in respect of such 4 as it stood prior to 1939 charged income-tax on all income profits or gains from whatever source derived accruing or arising or received in british india or deemed under the provisions of the act to accrue or arise or to be received in british further provided that the income profits and gains accruing or arising without british india to a person resident in british order to clarify this matter by act xxii of 1947 the magical numbere was amended and it number is in these terms - income deemed to accrue or arise within british retention of this marginal numbere gave rise to companyflicting decision on the question whether the section in spite of the chang made in its language in 1939 still companytinued to have application to cases of number- resident words in the case of any person involves a number of statutory fiction income which can in numbersense be said to accrue at all may be companysidered as so 42 1 defines what income is deemed to accrue within the taxable bench to the bombay high companyrt in companymissioner of income-tax v. western india life insurance company held that is only by application of this definition that one class of income deemed to accrue to a resident within the taxable territories within the meaning of section 4 1 b i can be to accrue at all may be companysidered as so of british india were deleted from section 42 1 during the tendency of the amendment bill of 1939 in the companyncil of state presumably with the object of making the section application to any person who had any income which in a primary sense arose in british india even though technically it had arisen abroad irrespective of the circumstance whether that person was resident ordinarily resident or number ordinarily same view was taken by a bench of the madras v. p arasuram its amendment in 1939 the section applied only to was placed inter alia on the circumstance that the marginal numbere appended to the section indicating that it applied to number-resident alone had number been section 2 and the latter portion of sub-section 1 expressly companycern themselves with the case of number-residents while sub-section 1 and 3 are so framed that they companyer both residents and number- companytrary view has numberdoubt been expressed by a division bench of the bombay high companyrt in companymissioner of income-tax v. western india life insurance company limited though reference was made in that case to the alteration in the structure of sub-section i its significance as it seems to me was number properly pointed out by the privy companyncil in balraj kunwar v. jagatpal singh marginal numberes in an indian statute as facts that the marginal numbere to the whole section refers to number-residents and that the section itself finds a place in chapter v headed liability in special cases were relied upon as supporting the view that sub-section i as a whole applies only to ', '1960_100.txt': 'is unfortunate that the specific points raised by the appellant whatever they were were number made the subject- matter of specific was admitted that permission was refused to engage a counsel but it was finally averred that taking the enquiry as a whole there was numbersuch defect in its companyduct as to invalidate it or call for interference by the appellant amended the plaint later and added one more grievance namely that he had been appointed by the deputy inspector general of police and could only have been dismissed by him and number by the superintendent of was also denied that numberopportunity had been given to the appellant to lead defence evidence or to cross-examine prosecution witnesses or to make his own statement in answer to the rules and regulations prescribed for the therefore dismissed the was an appeal to the district judge by the punjab 3 is unfortunate that the specific points raised by the appellant whatever they were were number made the subject- matter of specific companynsel for the appellant challenges the company- erectness of the view taken by the high companyrt and three points have been urged on his behalf before us namely 1 s. 240 3 of the government of india act applied to police officers of subordinate rank and there was numberhing in s. 243 which took away from such officers the protection of s. 240 3 2 even if the police regulations alone applied there was such violation of the relevant regulations as to vitiate the enquiry proceedings and 3 the superintendent of police companyld number hold a departmental enquiry as a criminal offence had been committed and reliance in this companynection was placed on companysequence the high companyrt further held that the appellant was number entitled to the protection of s. 240 3 and as the amendment to the police regulations which brought in the substance of s. 240 3 therein was made after the dismissal of the appellant he companyld number take advantage of 243 of the government of india act appears in chapter 11 of part x dealing with civil chapter begins with s. 240 and sub-s. 3 thereof provides that numbermember of a civil service or holding any civil post in india shall be dismissed or reduced in rank until he has been given a reasonable opportunity of showing cause against the action proposed to be taken in regard to ', '1960_72.txt': 'a claim for bonus made by the appellants in the present proceedings is a claim in respect of the general insurance business of the respondent and if allowed it would add to the remuneration payable to thereof takes the form of commission or bonus in respect of the general insurance business of the the financial position of the insurer is sufficiently satisfactory the central government result of this provision appears to be that the central government has to companysider the circumstances of each insurer and then decide whether any bonus should be paid by the insurer to its looking s. at 31a 1 c by itself without the proviso the position is absolutely at is why the appellants in our opinion is the effect of proviso vii to s. 31a 1 is however urged that proviso vii merely enables the central government to prescribe the does number take away the central governments authority to refer an industrial dispute in respect of bonus for adjudication under s. 10 of the industrial disputes the central government decides that numberbonus should be paid numberbonus can be paid by the the central government decides that bonus should be paid but number beyond specified limit the insurer cannumber exceed that are number impressed by this our opinion the policy of the relevant clause of the proviso is absolutely the enabling provision companytained in proviso vii should number be construed to companystitute a bar against the central governments power to act under s. 10 1 of the industrial disputes such a case the central government should have authority to make the of bonus by insurers was intended by the legislature to be companyditioned by the provisions companytained in the said clause and we feel numberdoubt or difficulty in reaching the companyclusion that the intervention of the industrial tribunals was intended to be excluded and the matter was intended to be kept within the discretion of the central government so far as the payment of bonus by the insurers is 10 of the banking companypanies act is companyparable to s. 31a of the insurance act and so this decision supports the view that we have taken about the effect of s. 31a 1 c ', '1963_37.txt': 'is this order which is challenged by the appellant by its present appeal brought to this companyrt by special said report was in due companyrse forwarded to the head ice in found that mr. banerjee was networking satisfactorily as a material facts leading to the termination of mr. banerjees services lie within a very narrow mr. gupta who was then the manager of the calcutta ice visited the area assigned to mr. banerjee in the last week of head ice then instructed the calcutta sales ice by telephone to send for mr. banerjee and call for his said report was in due companyrse forwarded to the head ice in for and his explanation taken mr. gupta then made anumberher report expressing his dissatisfaction with the explanation given by mr. mr. gupta made a report to the zonal manager on numberember 2 1959 adversely companymenting on mr. banerjees is the validity of this order that is challenged before us by on behalf of the is true that in several cases companytract of employment or provisions in standing orders authorise an industrial employer to terminate the service of his giving numberice for one month or paying salary for one month in lieu of numberice and numbermally an employer may in a proper case -be entitled to exercise the said is why evidence was led by- both the parties before the labour has observed for instance that the appellant has number the present case the labour companyrt has made a definite finding in favour of -the appellant that its action in terminating the services of mr. banerjee was number malafide and did number amount to companying to this conclusion the labour companyrt has given some reasons which are clearly documentary evidence in support of its allegation against the efficiency of mr. the labour companyrt has accepted the fact that mr. gupta that called defects are specific and it is idle to refuse to give importance to this evidence merely on the ground that numberspecific instances had been companyment again cannumber be justified because mr. gupta stated in clear terms the defects in mr. banerjees work which had companye to his 1960 11 evidence is patently to that the said cases were repacked for avoiding further were intact in the companypanys packing with the straps on work and there is numberreason whatever why the labour companyrt should have been reluctant to accept this there can be numberdoubt that mr. guptas statetment is absolutely true and that mr. banerjee had made his report about the unsatisfactory companydition of the ', '1951_33.txt': 'were claimed to have become the property of the these allegations the respondent number 1 prayed for the following reliefs - a a decree for ejectment and khas possession over the brickfield b damages amounting to all the boilers engines trucks kilns railway and tramway lines and all other movable property plant and machinery on the demised for damages caused to the field and d a decree for permanent injunction restraining the defendants from removing or otherwise disposing of the bricks pugmils for the period between the termination of the lease and institution of the suit and mesne profits for the subsequent period c a decree for of the respondent number 1 in to become the absolute properties of the without prejudice from karnani industrial bank limited on account of yearly rent for akra brickfield for the year ending 31st march 1938. on the 27th august 1937 the appellants applied to the secretary to the government of bengal public works department for renewing the appellants thereafter preferred an appeal to the high companyrt at calcutta and the respondent number 1 also preferred a cross-objection claiming that the prayer for injunction should have been allowed and the claim for damages should have been decreed in as rent for the yearly period 1st april to 31st march of the succeeding year and the last payment was made in april 1937 by means of a cheque sent with a companyering letter the material portion of which runs as follows - we beg to enclose herewith a cheque for the the site on which date government will take over possession of the property from addressing several other letters the appellants received a letter dated the 23rd february 1938 with which was enclosed a companyy of an extract from a letter addressed by the executive engineer suburban division to the assistant engineer number iii sub-division which was as under - he is requested to make arrangements with messrs. karnani industrial bank limited for vacant possession of the akra brickfield on the 24th instant as the lease with the bank will expire on the 23rd instant according to the terms of the it seems to us that the very fact that the payment was made at a time when there was numberquestion of the lessor assenting to the lessees companytinuing in possession and neither party treated the payment as importing such assent is sufficient to take the case out of the mischief of section was pointed out to us on behalf of the respondent that the entry relating to this payment in the books of the plaintiff companytains the words received without prejudice from karnani industrial bank the same words however occur in several earlier entries and we are number inclined to attach any special significance to the tenancy by efflux of time section 116 applied even though the landlord accepted the amount remitted to him as part deposit towards his claim for companypensation for illegal use and occupation and without prejudice to his the circumstances the decree for ejectment passed by the companyrts below must be however the second payment was made the sum paid was we have seen the rent for the first year was paid in advance near about the time of the execution of the lease and numberhing turns upon the words received without prejudice from karnani industrial bank the same words however occur in several earlier entries and we are number inclined to attach any special significance to being so the decree under appeal should be modified mean building materials such as bricks tiles and similar articles that might have been manufactured by the appellants on the demised only question is as to the meaning of other can be numberdoubt that under this clause the bricks and other materials have become the absolute property of the seems to us on an examination of the lease as a whole that there must be a distinction between materials and machinery and tools and similar articles and the words other materials have numberreference to engines trucks railway and tramway lines and clause as we have seen provides that the lessee shall be at liberty to keep on the demised premises for 3 months after the expiration of the lease any bricks boilers ', '1952_42.txt': 'my opinion the companytention raised that the bill was number passed into law fails and must be are numbergrounds whatever for doubting the companyrectness of his motion before the house that the bill be speaker companyld number possibly have appended a certificate on a bill that it was passed by the house if it had number been so it is companytended that articles 31-a and 31-b have numberapplication to this bill as it never became law by following the procedure prescribed in the companystitution and that those articles have only application to a bill that had becomes an my opinion the argument is companysideration so that it may have provisions of article 31 4 support the view of the learned attorney-general that what has to be sent to the president is the bill as passed by the legislature and number the bill after it has been assented to by the somayya pressed the point that the president companyld number perform both his functions under article 200 and article 31 4 companycerning this bill at one and the same time that first the procedure laid down in article 200 for the passing of the bill in to law should been followed companytention fails for the reasons given in my judgment in the bihar word has number the same meaning in all the bill was pending at the companymencement of the companystitution it was reserved for the companysideration of the president and the president gave his assent to companyditions for the application of article 31 4 thus stand this companytext the word legislature means the house or houses of legislature and does number include the governumber with in its this companystitution the law so assented to shall number be called in question in any companyrt on the ground that it companytravenes the provisions of clause 2 stand in the way of the petitioner and bar an enquiry into the question of the quantum of companytention that there is numberpublic purpose behind the impugned act has also to be repelled on the same reasoning as given by me in the bihar provides for the obstacle of article 31 4 companyditions for the application of article 31 4 thus stand further hurdles assessment of value by the petitioner cannumber be taken at its full assessment of value by the petitioner cannumber be taken at its full is numberhing on the record to support this argument that the act is bad inasmuch as it delegates essential legislative power to the executive is negatived for the reasons given in the bihar was companytended that article 31-b was merely illustrative cannumber at any rate be held that legislation which provides for the payment of a sum of companytention that those eighty mahals are number an estateand are thus excluded from the reach of article 31-a does number however very much advances the petitioners case because the hurdles created in his way by articles 31-b and 31 4 stand in spite of the circumstances that article 31-a has is numberhing on the record to support this 1945 petition is accordingly dismissed but in the circumstances i make numberorder as to applicability of article 31 4 is number limited to estates and its provisions save the law in its impugned act in this situation qua the acquisition on the eighty malguzari villages cannumber be questioned on the ground that it companytravenes the provisions of article 31 2 of the companystitution or any of the other provisions of part 31-b specifically validates certain acts mentioned in the schedule despite the provisions of article 31-a and is number illustrative of article 31a but stands independent of or provision is inconsistent with or takes away or abridges any of the rights companyferred by any provisions of this part and numberwithstanding any judgment decree or order of the companyrt or tribunal to the companytrary each of the said acts and regulations shall subject to the power of any companypetent legislature to repeal or amend it companytinue in petition is accordingly dismissed but in the circumstances i make numberorder as to number 317 of 1951. mr. bindra who appeared for the petitioner placed reliance on the observations of holmes applicability of article 31 4 is number limited to estates and its provisions save the law in its of part companymunications dictum of holmes petition is therefore my opinion this argument is void of companystitution had number even companye into force by the time that most of these statutes were number 286 of 1951 this petition is companycluded by my decision in petition number 166 of 1951 except as regards one is numberevidence whatsoever that all these enactments were enacted with a fraudulent design of defeating the provisions of payment of companypensation companytained in the a first step in this direction the revenue was enhanced in order to reduce the gross income of the zamindars then other acts mentioned in the earlier part of the main judgment were enacted with the same end in petition is accordingly dismissed but there will be numberorder of it seems to me that in view of the companyprehensive language of article 363 this issue is number guarantee has numbergreater scope than guarantee has been fully respected by the impugned statue as it treats treats those properties is their private properties and seeks to acquire them on that petitioner in petition number 246 also owns certain malguzari in petition number 237 is a malguzar of eighteen villages but owns petitions are accordingly the reasons given therein this petition is also dismissed but i make numberorder as to companyts in farmer of three already stated the purpose of the act is to bring about reforms in the land tenure system of the state by establishing direct companytact between the tillers of the soil and the in petitions and 285 they are in all these fifteen petitions mr. swami appeared for the petition also fails and is petitions are accordingly of the state by establishing direct companytact between the tillers of the soil and the will be numberorder as to were on 9th april 1951 the reasons given therein this petition is also dismissed but i make numberorder as to companyts in however appears to have been actually filed presumably because the present applications under under article 32 had already been filed in this b. somayya appearing for the petitioner in petition number 166 of 1951 the circumstances the companystituent assembly passed the companystitution first amendment act 1951 by section 4 and 5 of which two new articles namely article 31-a and article 31-b were inserted into the legal validity of the companystitution first amendment act 1951 which was challenged has however been upheld by this companyrt and all companyrts must give effect to the two new articles which are number substantive parts of our is numberdispute as to the companyrectness of the dates given to us by companynsel for the in dealing with this ground of objection it will be helpful to numbere the companyrse which the bill took before it was put on the statute were moved and disposed put forward any reasoned amendment and the trend of the speeches shows that the house accepted the followed speeches by 11 speakers companygratulating the government and some of the members who took an active part in carrying through this important measure of land reform and relief to the tillers of the the official report of proceedings it does number however appear that after the speeches the speaker formally put the motion to the vote or declared it petitioners rely only on the absence in the official report of proceedings of any mention of the question being put to or carried by the is companytended is that the provisions of old rule 20 1 have number been endorsing his signature at the foot of that companyy of the printed is urged that the question that the bill be passed into law was number to the assembly under rule 20 and if it was at all put the result of the voting whether by voices or division was never annumbernced by the speaker as required by old rule 34. there being a presumption of regularity attached to all official business the onus is undoubtedly on the petitioners to allege and prove that the procedure prescribed by the rules was number is numberevidence on affidavit by anybody who was present at the meeting of the assembly held on 5th april 1950 as to be what actually happened on that am number prepared to accept this companytention as the speeches delivered by the eleven speakers clearly indicate that the stage there was numberopposition the argument is that the initial onus that was on the petitioners has been quite adequately and effectively discharged by the authentic record of the proceedings of the assembly and companysequently it must be held that the bill did number actually become law at have already pointed out that the original printed act produced before us clearly shows that on 5th may 1950 the speaker certified that the bill had been passed by the petitioners as i have said strongly rely on the official report of the my judgment this ground of attack on the validity of the act is number well-founded and must be should in this companynection be borne in mind that article 208 of the companystitution companytinued the old rules until new rules were appears that new rules were framed and actually came into force on 8th september 1950 new rule 148 does number reproduce sub-rule 2 of old rule 115 after the new rules came into force it was numberlonger the duty of the speaker to companyfirm the proceedings at is after all a matter for the speaker to declare the result the authentication by the speaker on the printed act that the bill was passed involves such a declaration having been duly the speeches delivered by the eleven speakers clearly indicate that the stage there was numberopposition the is number am unable to accept this line of clause postulates a lawmade by the legislature of a stress is laid on the words law and legislatures of a of attack on the validity of the act is number well-founded and must be the latter event happening the argument of the learned companynsel for the petitioners will require that what has become a law by the assent of the president will in order to be effective have to be again reserved for the companysideration of the president a curious companyclusion i should be loath to reach unless i am companypelled to do question whether the requirements of article 31 3 have been companyplied with will arise only when the state purports to acquire the property of any person under a law and that person denies that the asserted law has any words has received his assent clearly imply and point to an accomplished fact and the clause read as a whole does number grammatically exclude a law that eventually become a law by having had received the assent to the it is clear that a bill passed by a state assembly may become a law if the governumber gives his assent to it or if having been reserved by the governumber for the companysideration of the president it is assented to by the it is open to the petitioners to show that the legislature had numberpower to enact the law or that it offends against any other provision of the language of article 31 4 also supports this have already pointed out that article 200 does number companytemplate a second reservation which will be necessary if initially the governumber instead of himself assenting to the bill had reserved it for the companysideration of the my judgment article 31 3 on its true interpretation does number require that the governumber must first assent to the bill passed by the assembly so as to companyvert it into a law and then reserve that law for the companysideration of the to show that the legislature had numberpower to enact the law or that it offends against any other provision of the by him and it is number necessary for me to recapitulate the n. s. bindra and mr. swami have sought to reinforce those argument by citing certain further passager from certain text books and reported p. revision of the land revenue of mahals act 1947 enhancing the land revenue of the mahals c. p. revision of land revenue of estates act 1939 and c. p. revision of land revenue of estates act 1947 increasing the land revenue of the estates revocations of exemptions act 1948 revoking the exemptions from land revenue enjoyed by certain proprietors and finally the impugned act has been relied on as evidence of a systematic scheme for expropriating the zamindars and it is companytended that such a my opinion all these heads of objections must be see numberimproper delegation of legislative power at any case the impugned act is protected by article do number think it necessary to discuss the meaning of the word estate as used in article 31-a for in my opinion the argument of the learned advocate - general founded on article 31-b is well-founded and ought to occur to me several answers to this that the word estate has been used in a larger sense in article any case the impugned act is protected by article 15th december 1947 the ruler entered into a companyenant of that companyenant the properties in question were recognised as the personal properties of the ruler as distinct from the state occur to me several answers to this is said that the impugned act is bad as it companytravenes the above '}\n"
          ],
          "name": "stdout"
        }
      ]
    },
    {
      "cell_type": "code",
      "metadata": {
        "id": "tTn-HQo2w4i4",
        "colab_type": "code",
        "colab": {}
      },
      "source": [
        ""
      ],
      "execution_count": null,
      "outputs": []
    },
    {
      "cell_type": "code",
      "metadata": {
        "id": "ZXBgnEUFxWd2",
        "colab_type": "code",
        "colab": {}
      },
      "source": [
        ""
      ],
      "execution_count": null,
      "outputs": []
    }
  ]
}