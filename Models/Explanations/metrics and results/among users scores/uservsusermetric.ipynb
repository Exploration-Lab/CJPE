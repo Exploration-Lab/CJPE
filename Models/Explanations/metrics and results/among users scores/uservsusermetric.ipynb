{
 "cells": [
  {
   "cell_type": "code",
   "execution_count": 2,
   "metadata": {},
   "outputs": [],
   "source": [
    "import pandas as pd\n",
    "df = []\n",
    "for i in range(56):\n",
    "    df.append(pd.read_excel(\"anno_explanations_scores.xlsx\", \"Sheet\" + str(i+1)))"
   ]
  },
  {
   "cell_type": "code",
   "execution_count": 10,
   "metadata": {},
   "outputs": [
    {
     "name": "stdout",
     "output_type": "stream",
     "text": [
      "['User 1vs User 2 = 0.3788', 'User 1vs User 3 = 0.6015', 'User 1vs User 4 = 0.5862', 'User 1vs User 5 = 0.4524', 'User 2vs User 1 = 0.3788', 'User 2vs User 3 = 0.2668', 'User 2vs User 4 = 0.2637', 'User 2vs User 5 = 0.3401', 'User 3vs User 1 = 0.6015', 'User 3vs User 2 = 0.2668', 'User 3vs User 4 = 0.896', 'User 3vs User 5 = 0.3973', 'User 4vs User 1 = 0.5862', 'User 4vs User 2 = 0.2637', 'User 4vs User 3 = 0.896', 'User 4vs User 5 = 0.4003', 'User 5vs User 1 = 0.4524', 'User 5vs User 2 = 0.3401', 'User 5vs User 3 = 0.3973', 'User 5vs User 4 = 0.4003', '']\n"
     ]
    }
   ],
   "source": [
    "metrics = [\"Jaccard\", \"OverlapMin\", \"OverlapMax\", \"ROUGE-1\", \"ROUGE-2\", \"ROUGE-L\", \"BLEU\", \"METEOR\"]\n",
    "text = df[0][metric[0]].iloc[0]\n",
    "text = text.replace(\"\\n\\n\",\"\\n\")\n",
    "scores = text.split(\"\\n\")\n",
    "sc_matrix = [[0,0,0,0,0],[0,0,0,0,0],[0,0,0,0,0],[0,0,0,0,0],[0,0,0,0,0]]\n",
    "\n",
    "print(scores)"
   ]
  },
  {
   "cell_type": "code",
   "execution_count": 25,
   "metadata": {},
   "outputs": [],
   "source": [
    "def add_matrix(X,Y):\n",
    "    result = [[X[i][j] + Y[i][j]  for j in range(len(X[0]))] for i in range(len(X))]\n",
    "    return result\n",
    "\n",
    "def div_matrix(X,scalar):\n",
    "    result = [[round(X[i][j]/scalar,4)  for j in range(len(X[0]))] for i in range(len(X))]\n",
    "    return result"
   ]
  },
  {
   "cell_type": "code",
   "execution_count": 30,
   "metadata": {},
   "outputs": [],
   "source": [
    "import xlsxwriter\n",
    "book = xlsxwriter.Workbook(\"resultsamongusers\" + \".xlsx\") #creating new xlsx file \n",
    "cell_format = book.add_format()\n",
    "cell_format.set_text_wrap()\n",
    "cell_format.set_align(\"top\")\n",
    "\n",
    "for metric in metrics:\n",
    "    adding_matrix = [[0,0,0,0,0],[0,0,0,0,0],[0,0,0,0,0],[0,0,0,0,0],[0,0,0,0,0]]\n",
    "    for f in range(56):\n",
    "        text = df[f][metric].iloc[0]\n",
    "        text = text.replace(\"\\n\\n\",\"\\n\")\n",
    "        scores = text.split(\"\\n\")\n",
    "        sc_matrix = [[0,0,0,0,0],[0,0,0,0,0],[0,0,0,0,0],[0,0,0,0,0],[0,0,0,0,0]]\n",
    "        for i in range(20):\n",
    "            sc_matrix[int(scores[i][5])-1][int(scores[i][14])-1] = float(scores[i][18:])\n",
    "        \n",
    "        adding_matrix = add_matrix(adding_matrix, sc_matrix)\n",
    "        \n",
    "    adding_matrix = div_matrix(adding_matrix, 56)\n",
    "    \n",
    "    sheet = book.add_worksheet()\n",
    "    row=0\n",
    "    column=0\n",
    "    for ii,row_score in enumerate(adding_matrix):\n",
    "        for jj,score in enumerate(row_score):\n",
    "            sheet.write(row,column,adding_matrix[ii][jj])\n",
    "            column+=1\n",
    "        \n",
    "        row+=1\n",
    "        column=0\n",
    "            "
   ]
  },
  {
   "cell_type": "code",
   "execution_count": 31,
   "metadata": {},
   "outputs": [],
   "source": [
    "book.close()"
   ]
  },
  {
   "cell_type": "code",
   "execution_count": null,
   "metadata": {},
   "outputs": [],
   "source": []
  }
 ],
 "metadata": {
  "kernelspec": {
   "display_name": "Python 3",
   "language": "python",
   "name": "python3"
  },
  "language_info": {
   "codemirror_mode": {
    "name": "ipython",
    "version": 3
   },
   "file_extension": ".py",
   "mimetype": "text/x-python",
   "name": "python",
   "nbconvert_exporter": "python",
   "pygments_lexer": "ipython3",
   "version": "3.7.6"
  }
 },
 "nbformat": 4,
 "nbformat_minor": 4
}
