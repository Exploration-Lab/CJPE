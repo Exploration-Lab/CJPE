{
 "cells": [
  {
   "cell_type": "code",
   "execution_count": null,
   "metadata": {
    "colab": {
     "base_uri": "https://localhost:8080/",
     "height": 632
    },
    "colab_type": "code",
    "id": "Cs1Sb5vDyoLZ",
    "outputId": "1863f14e-119a-449f-fc8c-347a540b553a"
   },
   "outputs": [],
   "source": [
    "!pip install transformers\n",
    "import os\n",
    "import random\n",
    "import pandas as pd\n",
    "import numpy as np\n",
    "import csv\n",
    "import tensorflow as tf\n",
    "import torch\n",
    "from sklearn.model_selection import train_test_split\n",
    "from google.colab import drive\n",
    "import textwrap\n",
    "import progressbar\n",
    "import keras\n",
    "from keras.preprocessing.sequence import pad_sequences\n",
    "from torch.utils.data import TensorDataset, DataLoader, RandomSampler, SequentialSampler\n",
    "from transformers import BertForSequenceClassification, AdamW, BertConfig\n",
    "from transformers import get_linear_schedule_with_warmup\n",
    "import time\n",
    "import datetime\n",
    "import json"
   ]
  },
  {
   "cell_type": "code",
   "execution_count": null,
   "metadata": {
    "colab": {},
    "colab_type": "code",
    "id": "P7qci-A7y5eB"
   },
   "outputs": [],
   "source": [
    "#give mini_dataset path\n",
    "#GIVE ABSOLUTE PATHS HERE\n",
    "mini_dataset_path = \" \"        # give path to single_dataset.csv\n",
    "path_on_which_finetuned_model_is_saved = \" \"      #obvious\n",
    "dataset_path = \" \"           # give path to multi_dataset.csv\n",
    "path_train_npy_file = \" \"  #give .npy filename as well e.g. \"/content/Drive/My Drive/LNLP/Hierarchical/BERT_full/BERT_train.npy\"\n",
    "path_val_npy_file = \" \"    #similar as above\n",
    "path_test_npy_file = \" \"   #similar as above"
   ]
  },
  {
   "cell_type": "code",
   "execution_count": null,
   "metadata": {
    "colab": {
     "base_uri": "https://localhost:8080/",
     "height": 122
    },
    "colab_type": "code",
    "id": "VMFI6ZXKy7iu",
    "outputId": "9405f573-caa4-438b-8bad-383268324ce2"
   },
   "outputs": [],
   "source": [
    "drive.mount(\"/content/Drive/\")"
   ]
  },
  {
   "cell_type": "code",
   "execution_count": null,
   "metadata": {
    "colab": {},
    "colab_type": "code",
    "id": "Yqpk39qSy9bi"
   },
   "outputs": [],
   "source": [
    "df = pd.read_csv(mini_dataset_path)\n",
    "train_set = df.query(\" split=='train' \")\n",
    "test_set = df.query(\" split=='test' \")\n",
    "validation_set = df.query(\" split=='dev' \")"
   ]
  },
  {
   "cell_type": "code",
   "execution_count": null,
   "metadata": {
    "colab": {},
    "colab_type": "code",
    "id": "84c1xdZMB176"
   },
   "outputs": [],
   "source": [
    "from transformers import PreTrainedModel, PreTrainedTokenizer, PretrainedConfig\n",
    "from transformers import BertForSequenceClassification, BertTokenizer, BertConfig\n",
    "from transformers import RobertaForSequenceClassification, RobertaTokenizer, RobertaConfig\n",
    "from transformers import XLNetForSequenceClassification, XLNetTokenizer, XLNetConfig\n",
    "from transformers import XLMForSequenceClassification, XLMTokenizer, XLMConfig\n",
    "from transformers import DistilBertForSequenceClassification, DistilBertTokenizer, DistilBertConfig\n",
    "\n",
    "MODEL_CLASSES = {\n",
    "    'bert': (BertForSequenceClassification, BertTokenizer, BertConfig),\n",
    "    'xlnet': (XLNetForSequenceClassification, XLNetTokenizer, XLNetConfig),\n",
    "    'xlm': (XLMForSequenceClassification, XLMTokenizer, XLMConfig),\n",
    "    'roberta': (RobertaForSequenceClassification, RobertaTokenizer, RobertaConfig),\n",
    "    'distilbert': (DistilBertForSequenceClassification, DistilBertTokenizer, DistilBertConfig)}\n",
    "\n",
    "model_type = 'bert' ###--> CHANGE WHAT MODEL YOU WANT HERE!!! <--###\n",
    "model_class, tokenizer_class, config_class = MODEL_CLASSES[model_type]\n",
    "model_name = 'bert-base-uncased'"
   ]
  },
  {
   "cell_type": "code",
   "execution_count": null,
   "metadata": {
    "colab": {},
    "colab_type": "code",
    "id": "9sC5XSh1zJnt"
   },
   "outputs": [],
   "source": [
    "def att_masking(input_ids):\n",
    "  attention_masks = []\n",
    "  for sent in input_ids:\n",
    "    att_mask = [int(token_id > 0) for token_id in sent]\n",
    "    attention_masks.append(att_mask)\n",
    "  return attention_masks"
   ]
  },
  {
   "cell_type": "code",
   "execution_count": null,
   "metadata": {
    "colab": {},
    "colab_type": "code",
    "id": "5nfgi49TzLIq"
   },
   "outputs": [],
   "source": [
    "def grouped_input_ids(all_toks):\n",
    "  splitted_toks = []\n",
    "  l=0\n",
    "  r=510\n",
    "  while(l<len(all_toks)):\n",
    "    splitted_toks.append(all_toks[l:min(r,len(all_toks))])\n",
    "    l+=410\n",
    "    r+=410\n",
    "\n",
    "  CLS = tokenizer.cls_token\n",
    "  SEP = tokenizer.sep_token\n",
    "  e_sents = []\n",
    "  for l_t in splitted_toks:\n",
    "    l_t = [CLS] + l_t + [SEP]\n",
    "    encoded_sent = tokenizer.convert_tokens_to_ids(l_t)\n",
    "    e_sents.append(encoded_sent)\n",
    "\n",
    "  e_sents = pad_sequences(e_sents, maxlen=512, value=0, dtype=\"long\", padding=\"post\")\n",
    "  att_masks = att_masking(e_sents)\n",
    "  return e_sents, att_masks"
   ]
  },
  {
   "cell_type": "code",
   "execution_count": null,
   "metadata": {
    "colab": {},
    "colab_type": "code",
    "id": "JQbPyjPazNMC"
   },
   "outputs": [],
   "source": [
    "def generate_np_files_for_training(dataf, tokenizer):\n",
    "  all_input_ids, all_att_masks, all_labels = [], [], []\n",
    "  for i in progressbar.progressbar(range(len(dataf['text']))):\n",
    "    text = dataf['text'].iloc[i]\n",
    "    toks = tokenizer.tokenize(text)\n",
    "    if(len(toks) > 10000):\n",
    "      toks = toks[len(toks)-10000:]\n",
    "\n",
    "    splitted_input_ids, splitted_att_masks = grouped_input_ids(toks)\n",
    "    doc_label = dataf['label'].iloc[i]\n",
    "    for i in range(len(splitted_input_ids)):\n",
    "      all_input_ids.append(splitted_input_ids[i])\n",
    "      all_att_masks.append(splitted_att_masks[i])\n",
    "      all_labels.append(doc_label)\n",
    "\n",
    "  return all_input_ids, all_att_masks, all_labels"
   ]
  },
  {
   "cell_type": "code",
   "execution_count": null,
   "metadata": {
    "colab": {
     "base_uri": "https://localhost:8080/",
     "height": 83,
     "referenced_widgets": [
      "8e673c1a3efe461a9457b67759b3cfaa",
      "d03a9cb2949841048a2c92f77c8fdcd8",
      "1ea4ac2870924032b1eb417e66ea8cc3",
      "4d95cc2ec44a4a6d92612fb8186cb8fe",
      "b8117719fe4649f6826408d130d7a112",
      "b45349a56ae0406aa8ab0be86bfa5697",
      "4cf458aaff55438484bebf7ab94109f3",
      "1f6085a6e18f4f9684a94fb45528569e"
     ]
    },
    "colab_type": "code",
    "id": "yzkX4ggrzO8t",
    "outputId": "83c9d9a0-3b7d-460e-a0c5-7389f1798894"
   },
   "outputs": [],
   "source": [
    "from transformers import *\n",
    "tokenizer = BertTokenizer.from_pretrained('bert-base-cased', do_lower_case=True)\n",
    "train_input_ids, train_att_masks, train_labels = generate_np_files_for_training(train_set, tokenizer)"
   ]
  },
  {
   "cell_type": "code",
   "execution_count": null,
   "metadata": {
    "colab": {},
    "colab_type": "code",
    "id": "EEjcx-nMzXd7"
   },
   "outputs": [],
   "source": [
    "def input_id_maker(dataf, tokenizer):\n",
    "  input_ids = []\n",
    "  lengths = []\n",
    "\n",
    "  for i in progressbar.progressbar(range(len(dataf['text']))):\n",
    "    sen = dataf['text'].iloc[i]\n",
    "    sen = tokenizer.tokenize(sen)\n",
    "    CLS = tokenizer.cls_token\n",
    "    SEP = tokenizer.sep_token\n",
    "    if(len(sen) > 510):\n",
    "      sen = sen[len(sen)-510:]\n",
    "\n",
    "    sen = [CLS] + sen + [SEP]\n",
    "    encoded_sent = tokenizer.convert_tokens_to_ids(sen)\n",
    "    input_ids.append(encoded_sent)\n",
    "    lengths.append(len(encoded_sent))\n",
    "\n",
    "  input_ids = pad_sequences(input_ids, maxlen=512, value=0, dtype=\"long\", truncating=\"pre\", padding=\"post\")\n",
    "  return input_ids, lengths"
   ]
  },
  {
   "cell_type": "code",
   "execution_count": null,
   "metadata": {
    "colab": {
     "base_uri": "https://localhost:8080/",
     "height": 34
    },
    "colab_type": "code",
    "id": "6b7hra5izaqT",
    "outputId": "036988df-e989-40ee-fa65-3d0c71431dc1"
   },
   "outputs": [],
   "source": [
    "validation_input_ids, validation_lengths = input_id_maker(validation_set, tokenizer)"
   ]
  },
  {
   "cell_type": "code",
   "execution_count": null,
   "metadata": {
    "colab": {},
    "colab_type": "code",
    "id": "TpQRL7wEzfA2"
   },
   "outputs": [],
   "source": [
    "validation_attention_masks = att_masking(validation_input_ids)\n",
    "validation_labels = validation_set['label'].to_numpy().astype('int')"
   ]
  },
  {
   "cell_type": "code",
   "execution_count": null,
   "metadata": {
    "colab": {},
    "colab_type": "code",
    "id": "k-6_RPLyzg5W"
   },
   "outputs": [],
   "source": [
    "train_inputs = train_input_ids\n",
    "validation_inputs = validation_input_ids\n",
    "train_masks = train_att_masks\n",
    "validation_masks = validation_attention_masks\n",
    "\n",
    "train_inputs = torch.tensor(train_inputs)\n",
    "train_labels = torch.tensor(train_labels)\n",
    "train_masks = torch.tensor(train_masks)\n",
    "validation_inputs = torch.tensor(validation_inputs)\n",
    "validation_labels = torch.tensor(validation_labels)\n",
    "validation_masks = torch.tensor(validation_masks)"
   ]
  },
  {
   "cell_type": "code",
   "execution_count": null,
   "metadata": {
    "colab": {},
    "colab_type": "code",
    "id": "SVGkNTHXzi4K"
   },
   "outputs": [],
   "source": [
    "batch_size = 6\n",
    "train_data = TensorDataset(train_inputs, train_masks, train_labels)\n",
    "train_sampler = RandomSampler(train_data)\n",
    "train_dataloader = DataLoader(train_data, sampler=train_sampler, batch_size = batch_size)\n",
    "validation_data = TensorDataset(validation_inputs, validation_masks, validation_labels)\n",
    "validation_sampler = RandomSampler(validation_data)\n",
    "validation_dataloader = DataLoader(validation_data, sampler=validation_sampler, batch_size = batch_size)\n"
   ]
  },
  {
   "cell_type": "code",
   "execution_count": null,
   "metadata": {
    "colab": {
     "base_uri": "https://localhost:8080/",
     "height": 1000,
     "referenced_widgets": [
      "b18d0fb4199c4f15a7b1d52a1546d513",
      "2b79c2ef38f64c19aa41df195515c8e2",
      "78276d41ddab4f1880b3e99a6fe47b5a",
      "667e167185694518b58dee3555b96147",
      "d842ad5e71b94b46828f2671d379d6f4",
      "7fa589c4ddcf440fb17de79512855925",
      "5a9b817c5f7e44019dd40f2735edcff0",
      "f47e9da95cb942acaf016a266502aa1e",
      "d4e6e7ce2faa47ecb7b6552671563d1f",
      "bfa6e35c63174f61bb10fa1fc1e049f1",
      "c544ec400b7d46a78f32faa4df31eec7",
      "4924a861c9d54431a012e280bcb3ec01",
      "d756e5023b6e41d2975248980c902b15",
      "e94c90f37a4445ecaa114e52f2001320",
      "de71544c8efc4aad98f66b1ddba9ea6c",
      "5d1c8e0719174a37b430aa510fd3885e"
     ]
    },
    "colab_type": "code",
    "id": "l-xcZ8mBzko_",
    "outputId": "06c6ed1f-82fd-4c3b-ea71-9607507ad9e0"
   },
   "outputs": [],
   "source": [
    "device = torch.device('cuda' if torch.cuda.is_available() else 'cpu')\n",
    "model = BertForSequenceClassification.from_pretrained(\"bert-base-cased\", num_labels=2)\n",
    "model.to(device)"
   ]
  },
  {
   "cell_type": "code",
   "execution_count": null,
   "metadata": {
    "colab": {},
    "colab_type": "code",
    "id": "KkyVneHWzmYj"
   },
   "outputs": [],
   "source": [
    "lr = 2e-5\n",
    "max_grad_norm = 1.0\n",
    "epochs = 10\n",
    "num_total_steps = len(train_dataloader)*epochs\n",
    "num_warmup_steps = 1000\n",
    "warmup_proportion = float(num_warmup_steps) / float(num_total_steps)  # 0.1\n",
    "optimizer = AdamW(model.parameters(), lr=lr, correct_bias=True)\n",
    "scheduler = get_linear_schedule_with_warmup(optimizer, num_warmup_steps = num_warmup_steps, num_training_steps = num_total_steps)\n",
    "\n",
    "def flat_accuracy(preds, labels):\n",
    "    pred_flat = np.argmax(preds, axis=1).flatten()\n",
    "    labels_flat = labels.flatten()\n",
    "    return np.sum(pred_flat == labels_flat) / len(labels_flat)\n",
    "\n",
    "seed_val = 21\n",
    "\n",
    "\n",
    "np.random.seed(seed_val)\n",
    "torch.manual_seed(seed_val)\n",
    "torch.cuda.manual_seed_all(seed_val)"
   ]
  },
  {
   "cell_type": "code",
   "execution_count": null,
   "metadata": {
    "colab": {
     "base_uri": "https://localhost:8080/",
     "height": 1000
    },
    "colab_type": "code",
    "id": "hA0MCwNizo11",
    "outputId": "4d285f95-a358-4132-b96d-ea1e0d27f29c"
   },
   "outputs": [],
   "source": [
    "train_loss_values = []\n",
    "train_accuracy = []\n",
    "val_loss_values = []\n",
    "val_accuracy = []\n",
    "\n",
    "# For each epoch...\n",
    "for epoch_i in range(0, epochs):\n",
    "    print('======== Epoch {:} / {:} ========'.format(epoch_i + 1, epochs))\n",
    "    print('Training...')\n",
    "\n",
    "    model.train()\n",
    "    total_loss=0\n",
    "    train_batch_accuracy = 0\n",
    "\n",
    "    for step, batch in enumerate(train_dataloader):\n",
    "        if step % 40 == 0 and not step == 0:\n",
    "            print('  Batch {:>5,}  of  {:>5,}. : loss: {:} '.format(step, len(train_dataloader), total_loss/step))\n",
    "\n",
    "\n",
    "        b_input_ids = batch[0].to(device)\n",
    "        b_input_mask = batch[1].to(device)\n",
    "        b_labels = batch[2].to(device)\n",
    "\n",
    "        model.zero_grad()        \n",
    "\n",
    "        outputs = model(b_input_ids, token_type_ids=None, attention_mask=b_input_mask, labels=b_labels)\n",
    "        loss = outputs[0]\n",
    "        logits = outputs[1]\n",
    "\n",
    "        total_loss+=loss.item()\n",
    "\n",
    "        loss.backward()\n",
    "\n",
    "        batch_logits = logits\n",
    "        logits = batch_logits.detach().cpu().numpy()\n",
    "        label_ids = b_labels.to('cpu').numpy()\n",
    "        train_batch_accuracy = flat_accuracy(logits, label_ids)\n",
    "\n",
    "        torch.nn.utils.clip_grad_norm_(model.parameters(), 1.0)\n",
    "\n",
    "        optimizer.step()\n",
    "        scheduler.step()\n",
    "\n",
    "        if step%1000 == 0 and not step == 0:\n",
    "            print(\"\\nRunning Validation...\")\n",
    "            eval_loss, eval_accuracy = 0, 0\n",
    "            nb_eval_steps, nb_eval_examples = 0, 0\n",
    "            for batch in validation_dataloader:\n",
    "              batch = tuple(t.to(device) for t in batch)\n",
    "              b_input_ids, b_input_mask, b_labels = batch\n",
    "              with torch.no_grad():        \n",
    "                outputs = model(b_input_ids, token_type_ids=None, attention_mask=b_input_mask, labels=b_labels)\n",
    "\n",
    "              loss = outputs[0]\n",
    "              logits = outputs[1]\n",
    "    \n",
    "              logits = logits.detach().cpu().numpy()\n",
    "              label_ids = b_labels.to('cpu').numpy()\n",
    "        \n",
    "              tmp_eval_accuracy = flat_accuracy(logits, label_ids)\n",
    "              eval_accuracy += tmp_eval_accuracy\n",
    "\n",
    "              eval_loss+=loss\n",
    "\n",
    "              nb_eval_steps += 1\n",
    "\n",
    "            val_accuracy.append(eval_accuracy/nb_eval_steps)\n",
    "            val_loss_values.append(eval_loss/nb_eval_steps)\n",
    "\n",
    "            print('Validation loss: {:} : Validation accuracy: {:}'.format(val_loss_values[-1], val_accuracy[-1]))\n",
    "\n",
    "        \n",
    "    train_loss_values.append(total_loss/len(train_dataloader))\n",
    "    train_accuracy.append(train_batch_accuracy/len(train_dataloader))\n",
    "\n",
    "\n",
    "print(\"Training complete!\")"
   ]
  },
  {
   "cell_type": "code",
   "execution_count": null,
   "metadata": {
    "colab": {
     "base_uri": "https://localhost:8080/",
     "height": 34
    },
    "colab_type": "code",
    "id": "BEPraZa10lO0",
    "outputId": "cabd5c6c-bdd3-44db-bb05-63cf0dc838e2"
   },
   "outputs": [],
   "source": [
    "output_dir = \" \" # path on which fine tuned model will be saved\n",
    "\n",
    "# Create output directory if needed\n",
    "if not os.path.exists(output_dir):\n",
    "    os.makedirs(output_dir)\n",
    "\n",
    "print(\"Saving model to %s\" % output_dir)\n",
    "\n",
    "# Save a trained model, configuration and tokenizer using `save_pretrained()`.\n",
    "# They can then be reloaded using `from_pretrained()`\n",
    "model_to_save = model.module if hasattr(model, 'module') else model  # Take care of distributed/parallel training\n",
    "model_to_save.save_pretrained(output_dir)\n",
    "tokenizer.save_pretrained(output_dir)\n",
    "\n",
    "# Good practice: save your training arguments together with the trained model\n",
    "# torch.save(args, os.path.join(output_dir, 'training_args.bin'))\n",
    "\n",
    "# Copy the model files to a directory in your Google Drive.\n",
    "# !cp -r ./mini_BERT/ path_on_which_finetuned_model_is_saved\n",
    "!cp -r ./mini_BERT/ \"/content/Drive/My Drive/shared_by_vijit/LNLP/BERT/BERT_minidataset_finetuned_model/\""
   ]
  },
  {
   "cell_type": "code",
   "execution_count": null,
   "metadata": {
    "colab": {},
    "colab_type": "code",
    "id": "aXi1VlA3Ogfy"
   },
   "outputs": [],
   "source": [
    "df = pd.read_csv(dataset_path)\n",
    "train_set = df.query(\" split=='train' \")\n",
    "test_set = df.query(\" split=='test' \")\n",
    "validation_set = df.query(\" split=='dev' \")"
   ]
  },
  {
   "cell_type": "code",
   "execution_count": null,
   "metadata": {
    "colab": {
     "base_uri": "https://localhost:8080/",
     "height": 1000
    },
    "colab_type": "code",
    "id": "ec2lQwP4k1PW",
    "outputId": "4fd61b5f-0ab7-452d-bb92-8572208e1e4c"
   },
   "outputs": [],
   "source": [
    "# output_dir = path_on_which_finetuned_model_is_saved\n",
    "output_dir = \"/content/Drive/My Drive/shared_by_vijit/LNLP/BERT/BERT_minidataset_finetuned_model/mini_BERT/\"\n",
    "device = torch.device('cuda' if torch.cuda.is_available() else 'cpu')\n",
    "model = BertForSequenceClassification.from_pretrained(output_dir, output_hidden_states=True)\n",
    "tokenizer = tokenizer_class.from_pretrained(output_dir)\n",
    "model.to(device)"
   ]
  },
  {
   "cell_type": "code",
   "execution_count": null,
   "metadata": {
    "colab": {},
    "colab_type": "code",
    "id": "gTAVFo6lQpg5"
   },
   "outputs": [],
   "source": [
    "def att_masking(input_ids):\n",
    "  attention_masks = []\n",
    "  for sent in input_ids:\n",
    "    att_mask = [int(token_id > 0) for token_id in sent]\n",
    "    attention_masks.append(att_mask)\n",
    "  return attention_masks"
   ]
  },
  {
   "cell_type": "code",
   "execution_count": null,
   "metadata": {
    "colab": {},
    "colab_type": "code",
    "id": "dO-gwgRwQ0Ps"
   },
   "outputs": [],
   "source": [
    "def grouped_input_ids(all_toks):\n",
    "  splitted_toks = []\n",
    "  l=0\n",
    "  r=510\n",
    "  while(l<len(all_toks)):\n",
    "    splitted_toks.append(all_toks[l:min(r,len(all_toks))])\n",
    "    l+=410\n",
    "    r+=410\n",
    "\n",
    "  CLS = tokenizer.cls_token\n",
    "  SEP = tokenizer.sep_token\n",
    "  e_sents = []\n",
    "  for l_t in splitted_toks:\n",
    "    l_t = [CLS] + l_t + [SEP]\n",
    "    encoded_sent = tokenizer.convert_tokens_to_ids(l_t)\n",
    "    e_sents.append(encoded_sent)\n",
    "\n",
    "  e_sents = pad_sequences(e_sents, maxlen=512, value=0, dtype=\"long\", padding=\"post\")\n",
    "  att_masks = att_masking(e_sents)\n",
    "  return e_sents, att_masks"
   ]
  },
  {
   "cell_type": "code",
   "execution_count": null,
   "metadata": {
    "colab": {},
    "colab_type": "code",
    "id": "TNyZuxeJRoT1"
   },
   "outputs": [],
   "source": [
    "def get_output_for_one_vec(input_id, att_mask):\n",
    "  input_ids = torch.tensor(input_id)\n",
    "  att_masks = torch.tensor(att_mask)\n",
    "  input_ids = input_ids.unsqueeze(0)\n",
    "  att_masks = att_masks.unsqueeze(0)\n",
    "  model.eval()\n",
    "  input_ids = input_ids.to(device)\n",
    "  att_masks = att_masks.to(device)\n",
    "  with torch.no_grad():\n",
    "      logits, encoded_layers = model(input_ids=input_ids, token_type_ids=None, attention_mask=att_masks)\n",
    "\n",
    "  vec = encoded_layers[12][0][0]\n",
    "  vec = vec.detach().cpu().numpy()\n",
    "  return vec"
   ]
  },
  {
   "cell_type": "code",
   "execution_count": null,
   "metadata": {
    "colab": {},
    "colab_type": "code",
    "id": "k3Vx-uCCkcc4"
   },
   "outputs": [],
   "source": [
    "def generate_np_files_for_emb(dataf, tokenizer):\n",
    "  all_docs = []\n",
    "  for i in progressbar.progressbar(range(len(dataf['text']))):\n",
    "    text = dataf['text'].iloc[i]\n",
    "    toks = tokenizer.tokenize(text)\n",
    "    if(len(toks) > 10000):\n",
    "      toks = toks[len(toks)-10000:]\n",
    "\n",
    "    splitted_input_ids, splitted_att_masks = grouped_input_ids(toks)\n",
    "\n",
    "    vecs = []\n",
    "    for index,ii in enumerate(splitted_input_ids):\n",
    "      vecs.append(get_output_for_one_vec(ii, splitted_att_masks[index]))\n",
    " \n",
    "    one_doc = np.asarray(vecs)\n",
    "    all_docs.append(one_doc)\n",
    "\n",
    "  all_docs = np.asarray(all_docs)\n",
    "  return all_docs"
   ]
  },
  {
   "cell_type": "code",
   "execution_count": null,
   "metadata": {
    "colab": {
     "base_uri": "https://localhost:8080/",
     "height": 34
    },
    "colab_type": "code",
    "id": "1Ju0fEgAkenP",
    "outputId": "9bdb2f36-aeb4-479c-cd80-be52b7d1292b"
   },
   "outputs": [],
   "source": [
    "vecs_dev = generate_np_files_for_emb(validation_set, tokenizer)\n",
    "np.save(path_val_npy_file, vecs_dev)"
   ]
  },
  {
   "cell_type": "code",
   "execution_count": null,
   "metadata": {
    "colab": {
     "base_uri": "https://localhost:8080/",
     "height": 34
    },
    "colab_type": "code",
    "id": "TZ_pqKmskneG",
    "outputId": "3f813c3c-4e9b-407c-eb79-363f40d506ce"
   },
   "outputs": [],
   "source": [
    "vecs_train = generate_np_files_for_emb(train_set, tokenizer)\n",
    "np.save(path_train_npy_file, vecs_train)"
   ]
  },
  {
   "cell_type": "code",
   "execution_count": null,
   "metadata": {
    "colab": {
     "base_uri": "https://localhost:8080/",
     "height": 34
    },
    "colab_type": "code",
    "id": "EH9uRU04lCO6",
    "outputId": "6444b6cc-6f08-4b90-b8a4-7050896897d3"
   },
   "outputs": [],
   "source": [
    "vecs_test = generate_np_files_for_emb(test_set, tokenizer)\n",
    "np.save(path_test_npy_file, vecs_test)"
   ]
  }
 ],
 "metadata": {
  "accelerator": "GPU",
  "colab": {
   "collapsed_sections": [],
   "name": "train_BERT_on_mini.ipynb",
   "provenance": []
  },
  "kernelspec": {
   "display_name": "Python 3",
   "language": "python",
   "name": "python3"
  },
  "language_info": {
   "codemirror_mode": {
    "name": "ipython",
    "version": 3
   },
   "file_extension": ".py",
   "mimetype": "text/x-python",
   "name": "python",
   "nbconvert_exporter": "python",
   "pygments_lexer": "ipython3",
   "version": "3.7.3"
  },
  "widgets": {
   "application/vnd.jupyter.widget-state+json": {
    "1ea4ac2870924032b1eb417e66ea8cc3": {
     "model_module": "@jupyter-widgets/controls",
     "model_name": "FloatProgressModel",
     "state": {
      "_dom_classes": [],
      "_model_module": "@jupyter-widgets/controls",
      "_model_module_version": "1.5.0",
      "_model_name": "FloatProgressModel",
      "_view_count": null,
      "_view_module": "@jupyter-widgets/controls",
      "_view_module_version": "1.5.0",
      "_view_name": "ProgressView",
      "bar_style": "success",
      "description": "Downloading: 100%",
      "description_tooltip": null,
      "layout": "IPY_MODEL_b45349a56ae0406aa8ab0be86bfa5697",
      "max": 213450,
      "min": 0,
      "orientation": "horizontal",
      "style": "IPY_MODEL_b8117719fe4649f6826408d130d7a112",
      "value": 213450
     }
    },
    "1f6085a6e18f4f9684a94fb45528569e": {
     "model_module": "@jupyter-widgets/base",
     "model_name": "LayoutModel",
     "state": {
      "_model_module": "@jupyter-widgets/base",
      "_model_module_version": "1.2.0",
      "_model_name": "LayoutModel",
      "_view_count": null,
      "_view_module": "@jupyter-widgets/base",
      "_view_module_version": "1.2.0",
      "_view_name": "LayoutView",
      "align_content": null,
      "align_items": null,
      "align_self": null,
      "border": null,
      "bottom": null,
      "display": null,
      "flex": null,
      "flex_flow": null,
      "grid_area": null,
      "grid_auto_columns": null,
      "grid_auto_flow": null,
      "grid_auto_rows": null,
      "grid_column": null,
      "grid_gap": null,
      "grid_row": null,
      "grid_template_areas": null,
      "grid_template_columns": null,
      "grid_template_rows": null,
      "height": null,
      "justify_content": null,
      "justify_items": null,
      "left": null,
      "margin": null,
      "max_height": null,
      "max_width": null,
      "min_height": null,
      "min_width": null,
      "object_fit": null,
      "object_position": null,
      "order": null,
      "overflow": null,
      "overflow_x": null,
      "overflow_y": null,
      "padding": null,
      "right": null,
      "top": null,
      "visibility": null,
      "width": null
     }
    },
    "2b79c2ef38f64c19aa41df195515c8e2": {
     "model_module": "@jupyter-widgets/base",
     "model_name": "LayoutModel",
     "state": {
      "_model_module": "@jupyter-widgets/base",
      "_model_module_version": "1.2.0",
      "_model_name": "LayoutModel",
      "_view_count": null,
      "_view_module": "@jupyter-widgets/base",
      "_view_module_version": "1.2.0",
      "_view_name": "LayoutView",
      "align_content": null,
      "align_items": null,
      "align_self": null,
      "border": null,
      "bottom": null,
      "display": null,
      "flex": null,
      "flex_flow": null,
      "grid_area": null,
      "grid_auto_columns": null,
      "grid_auto_flow": null,
      "grid_auto_rows": null,
      "grid_column": null,
      "grid_gap": null,
      "grid_row": null,
      "grid_template_areas": null,
      "grid_template_columns": null,
      "grid_template_rows": null,
      "height": null,
      "justify_content": null,
      "justify_items": null,
      "left": null,
      "margin": null,
      "max_height": null,
      "max_width": null,
      "min_height": null,
      "min_width": null,
      "object_fit": null,
      "object_position": null,
      "order": null,
      "overflow": null,
      "overflow_x": null,
      "overflow_y": null,
      "padding": null,
      "right": null,
      "top": null,
      "visibility": null,
      "width": null
     }
    },
    "4924a861c9d54431a012e280bcb3ec01": {
     "model_module": "@jupyter-widgets/controls",
     "model_name": "HTMLModel",
     "state": {
      "_dom_classes": [],
      "_model_module": "@jupyter-widgets/controls",
      "_model_module_version": "1.5.0",
      "_model_name": "HTMLModel",
      "_view_count": null,
      "_view_module": "@jupyter-widgets/controls",
      "_view_module_version": "1.5.0",
      "_view_name": "HTMLView",
      "description": "",
      "description_tooltip": null,
      "layout": "IPY_MODEL_5d1c8e0719174a37b430aa510fd3885e",
      "placeholder": "​",
      "style": "IPY_MODEL_de71544c8efc4aad98f66b1ddba9ea6c",
      "value": " 436M/436M [00:09&lt;00:00, 46.1MB/s]"
     }
    },
    "4cf458aaff55438484bebf7ab94109f3": {
     "model_module": "@jupyter-widgets/controls",
     "model_name": "DescriptionStyleModel",
     "state": {
      "_model_module": "@jupyter-widgets/controls",
      "_model_module_version": "1.5.0",
      "_model_name": "DescriptionStyleModel",
      "_view_count": null,
      "_view_module": "@jupyter-widgets/base",
      "_view_module_version": "1.2.0",
      "_view_name": "StyleView",
      "description_width": ""
     }
    },
    "4d95cc2ec44a4a6d92612fb8186cb8fe": {
     "model_module": "@jupyter-widgets/controls",
     "model_name": "HTMLModel",
     "state": {
      "_dom_classes": [],
      "_model_module": "@jupyter-widgets/controls",
      "_model_module_version": "1.5.0",
      "_model_name": "HTMLModel",
      "_view_count": null,
      "_view_module": "@jupyter-widgets/controls",
      "_view_module_version": "1.5.0",
      "_view_name": "HTMLView",
      "description": "",
      "description_tooltip": null,
      "layout": "IPY_MODEL_1f6085a6e18f4f9684a94fb45528569e",
      "placeholder": "​",
      "style": "IPY_MODEL_4cf458aaff55438484bebf7ab94109f3",
      "value": " 213k/213k [00:00&lt;00:00, 274kB/s]"
     }
    },
    "5a9b817c5f7e44019dd40f2735edcff0": {
     "model_module": "@jupyter-widgets/controls",
     "model_name": "DescriptionStyleModel",
     "state": {
      "_model_module": "@jupyter-widgets/controls",
      "_model_module_version": "1.5.0",
      "_model_name": "DescriptionStyleModel",
      "_view_count": null,
      "_view_module": "@jupyter-widgets/base",
      "_view_module_version": "1.2.0",
      "_view_name": "StyleView",
      "description_width": ""
     }
    },
    "5d1c8e0719174a37b430aa510fd3885e": {
     "model_module": "@jupyter-widgets/base",
     "model_name": "LayoutModel",
     "state": {
      "_model_module": "@jupyter-widgets/base",
      "_model_module_version": "1.2.0",
      "_model_name": "LayoutModel",
      "_view_count": null,
      "_view_module": "@jupyter-widgets/base",
      "_view_module_version": "1.2.0",
      "_view_name": "LayoutView",
      "align_content": null,
      "align_items": null,
      "align_self": null,
      "border": null,
      "bottom": null,
      "display": null,
      "flex": null,
      "flex_flow": null,
      "grid_area": null,
      "grid_auto_columns": null,
      "grid_auto_flow": null,
      "grid_auto_rows": null,
      "grid_column": null,
      "grid_gap": null,
      "grid_row": null,
      "grid_template_areas": null,
      "grid_template_columns": null,
      "grid_template_rows": null,
      "height": null,
      "justify_content": null,
      "justify_items": null,
      "left": null,
      "margin": null,
      "max_height": null,
      "max_width": null,
      "min_height": null,
      "min_width": null,
      "object_fit": null,
      "object_position": null,
      "order": null,
      "overflow": null,
      "overflow_x": null,
      "overflow_y": null,
      "padding": null,
      "right": null,
      "top": null,
      "visibility": null,
      "width": null
     }
    },
    "667e167185694518b58dee3555b96147": {
     "model_module": "@jupyter-widgets/controls",
     "model_name": "HTMLModel",
     "state": {
      "_dom_classes": [],
      "_model_module": "@jupyter-widgets/controls",
      "_model_module_version": "1.5.0",
      "_model_name": "HTMLModel",
      "_view_count": null,
      "_view_module": "@jupyter-widgets/controls",
      "_view_module_version": "1.5.0",
      "_view_name": "HTMLView",
      "description": "",
      "description_tooltip": null,
      "layout": "IPY_MODEL_f47e9da95cb942acaf016a266502aa1e",
      "placeholder": "​",
      "style": "IPY_MODEL_5a9b817c5f7e44019dd40f2735edcff0",
      "value": " 433/433 [00:23&lt;00:00, 18.2B/s]"
     }
    },
    "78276d41ddab4f1880b3e99a6fe47b5a": {
     "model_module": "@jupyter-widgets/controls",
     "model_name": "FloatProgressModel",
     "state": {
      "_dom_classes": [],
      "_model_module": "@jupyter-widgets/controls",
      "_model_module_version": "1.5.0",
      "_model_name": "FloatProgressModel",
      "_view_count": null,
      "_view_module": "@jupyter-widgets/controls",
      "_view_module_version": "1.5.0",
      "_view_name": "ProgressView",
      "bar_style": "success",
      "description": "Downloading: 100%",
      "description_tooltip": null,
      "layout": "IPY_MODEL_7fa589c4ddcf440fb17de79512855925",
      "max": 433,
      "min": 0,
      "orientation": "horizontal",
      "style": "IPY_MODEL_d842ad5e71b94b46828f2671d379d6f4",
      "value": 433
     }
    },
    "7fa589c4ddcf440fb17de79512855925": {
     "model_module": "@jupyter-widgets/base",
     "model_name": "LayoutModel",
     "state": {
      "_model_module": "@jupyter-widgets/base",
      "_model_module_version": "1.2.0",
      "_model_name": "LayoutModel",
      "_view_count": null,
      "_view_module": "@jupyter-widgets/base",
      "_view_module_version": "1.2.0",
      "_view_name": "LayoutView",
      "align_content": null,
      "align_items": null,
      "align_self": null,
      "border": null,
      "bottom": null,
      "display": null,
      "flex": null,
      "flex_flow": null,
      "grid_area": null,
      "grid_auto_columns": null,
      "grid_auto_flow": null,
      "grid_auto_rows": null,
      "grid_column": null,
      "grid_gap": null,
      "grid_row": null,
      "grid_template_areas": null,
      "grid_template_columns": null,
      "grid_template_rows": null,
      "height": null,
      "justify_content": null,
      "justify_items": null,
      "left": null,
      "margin": null,
      "max_height": null,
      "max_width": null,
      "min_height": null,
      "min_width": null,
      "object_fit": null,
      "object_position": null,
      "order": null,
      "overflow": null,
      "overflow_x": null,
      "overflow_y": null,
      "padding": null,
      "right": null,
      "top": null,
      "visibility": null,
      "width": null
     }
    },
    "8e673c1a3efe461a9457b67759b3cfaa": {
     "model_module": "@jupyter-widgets/controls",
     "model_name": "HBoxModel",
     "state": {
      "_dom_classes": [],
      "_model_module": "@jupyter-widgets/controls",
      "_model_module_version": "1.5.0",
      "_model_name": "HBoxModel",
      "_view_count": null,
      "_view_module": "@jupyter-widgets/controls",
      "_view_module_version": "1.5.0",
      "_view_name": "HBoxView",
      "box_style": "",
      "children": [
       "IPY_MODEL_1ea4ac2870924032b1eb417e66ea8cc3",
       "IPY_MODEL_4d95cc2ec44a4a6d92612fb8186cb8fe"
      ],
      "layout": "IPY_MODEL_d03a9cb2949841048a2c92f77c8fdcd8"
     }
    },
    "b18d0fb4199c4f15a7b1d52a1546d513": {
     "model_module": "@jupyter-widgets/controls",
     "model_name": "HBoxModel",
     "state": {
      "_dom_classes": [],
      "_model_module": "@jupyter-widgets/controls",
      "_model_module_version": "1.5.0",
      "_model_name": "HBoxModel",
      "_view_count": null,
      "_view_module": "@jupyter-widgets/controls",
      "_view_module_version": "1.5.0",
      "_view_name": "HBoxView",
      "box_style": "",
      "children": [
       "IPY_MODEL_78276d41ddab4f1880b3e99a6fe47b5a",
       "IPY_MODEL_667e167185694518b58dee3555b96147"
      ],
      "layout": "IPY_MODEL_2b79c2ef38f64c19aa41df195515c8e2"
     }
    },
    "b45349a56ae0406aa8ab0be86bfa5697": {
     "model_module": "@jupyter-widgets/base",
     "model_name": "LayoutModel",
     "state": {
      "_model_module": "@jupyter-widgets/base",
      "_model_module_version": "1.2.0",
      "_model_name": "LayoutModel",
      "_view_count": null,
      "_view_module": "@jupyter-widgets/base",
      "_view_module_version": "1.2.0",
      "_view_name": "LayoutView",
      "align_content": null,
      "align_items": null,
      "align_self": null,
      "border": null,
      "bottom": null,
      "display": null,
      "flex": null,
      "flex_flow": null,
      "grid_area": null,
      "grid_auto_columns": null,
      "grid_auto_flow": null,
      "grid_auto_rows": null,
      "grid_column": null,
      "grid_gap": null,
      "grid_row": null,
      "grid_template_areas": null,
      "grid_template_columns": null,
      "grid_template_rows": null,
      "height": null,
      "justify_content": null,
      "justify_items": null,
      "left": null,
      "margin": null,
      "max_height": null,
      "max_width": null,
      "min_height": null,
      "min_width": null,
      "object_fit": null,
      "object_position": null,
      "order": null,
      "overflow": null,
      "overflow_x": null,
      "overflow_y": null,
      "padding": null,
      "right": null,
      "top": null,
      "visibility": null,
      "width": null
     }
    },
    "b8117719fe4649f6826408d130d7a112": {
     "model_module": "@jupyter-widgets/controls",
     "model_name": "ProgressStyleModel",
     "state": {
      "_model_module": "@jupyter-widgets/controls",
      "_model_module_version": "1.5.0",
      "_model_name": "ProgressStyleModel",
      "_view_count": null,
      "_view_module": "@jupyter-widgets/base",
      "_view_module_version": "1.2.0",
      "_view_name": "StyleView",
      "bar_color": null,
      "description_width": "initial"
     }
    },
    "bfa6e35c63174f61bb10fa1fc1e049f1": {
     "model_module": "@jupyter-widgets/base",
     "model_name": "LayoutModel",
     "state": {
      "_model_module": "@jupyter-widgets/base",
      "_model_module_version": "1.2.0",
      "_model_name": "LayoutModel",
      "_view_count": null,
      "_view_module": "@jupyter-widgets/base",
      "_view_module_version": "1.2.0",
      "_view_name": "LayoutView",
      "align_content": null,
      "align_items": null,
      "align_self": null,
      "border": null,
      "bottom": null,
      "display": null,
      "flex": null,
      "flex_flow": null,
      "grid_area": null,
      "grid_auto_columns": null,
      "grid_auto_flow": null,
      "grid_auto_rows": null,
      "grid_column": null,
      "grid_gap": null,
      "grid_row": null,
      "grid_template_areas": null,
      "grid_template_columns": null,
      "grid_template_rows": null,
      "height": null,
      "justify_content": null,
      "justify_items": null,
      "left": null,
      "margin": null,
      "max_height": null,
      "max_width": null,
      "min_height": null,
      "min_width": null,
      "object_fit": null,
      "object_position": null,
      "order": null,
      "overflow": null,
      "overflow_x": null,
      "overflow_y": null,
      "padding": null,
      "right": null,
      "top": null,
      "visibility": null,
      "width": null
     }
    },
    "c544ec400b7d46a78f32faa4df31eec7": {
     "model_module": "@jupyter-widgets/controls",
     "model_name": "FloatProgressModel",
     "state": {
      "_dom_classes": [],
      "_model_module": "@jupyter-widgets/controls",
      "_model_module_version": "1.5.0",
      "_model_name": "FloatProgressModel",
      "_view_count": null,
      "_view_module": "@jupyter-widgets/controls",
      "_view_module_version": "1.5.0",
      "_view_name": "ProgressView",
      "bar_style": "success",
      "description": "Downloading: 100%",
      "description_tooltip": null,
      "layout": "IPY_MODEL_e94c90f37a4445ecaa114e52f2001320",
      "max": 435779157,
      "min": 0,
      "orientation": "horizontal",
      "style": "IPY_MODEL_d756e5023b6e41d2975248980c902b15",
      "value": 435779157
     }
    },
    "d03a9cb2949841048a2c92f77c8fdcd8": {
     "model_module": "@jupyter-widgets/base",
     "model_name": "LayoutModel",
     "state": {
      "_model_module": "@jupyter-widgets/base",
      "_model_module_version": "1.2.0",
      "_model_name": "LayoutModel",
      "_view_count": null,
      "_view_module": "@jupyter-widgets/base",
      "_view_module_version": "1.2.0",
      "_view_name": "LayoutView",
      "align_content": null,
      "align_items": null,
      "align_self": null,
      "border": null,
      "bottom": null,
      "display": null,
      "flex": null,
      "flex_flow": null,
      "grid_area": null,
      "grid_auto_columns": null,
      "grid_auto_flow": null,
      "grid_auto_rows": null,
      "grid_column": null,
      "grid_gap": null,
      "grid_row": null,
      "grid_template_areas": null,
      "grid_template_columns": null,
      "grid_template_rows": null,
      "height": null,
      "justify_content": null,
      "justify_items": null,
      "left": null,
      "margin": null,
      "max_height": null,
      "max_width": null,
      "min_height": null,
      "min_width": null,
      "object_fit": null,
      "object_position": null,
      "order": null,
      "overflow": null,
      "overflow_x": null,
      "overflow_y": null,
      "padding": null,
      "right": null,
      "top": null,
      "visibility": null,
      "width": null
     }
    },
    "d4e6e7ce2faa47ecb7b6552671563d1f": {
     "model_module": "@jupyter-widgets/controls",
     "model_name": "HBoxModel",
     "state": {
      "_dom_classes": [],
      "_model_module": "@jupyter-widgets/controls",
      "_model_module_version": "1.5.0",
      "_model_name": "HBoxModel",
      "_view_count": null,
      "_view_module": "@jupyter-widgets/controls",
      "_view_module_version": "1.5.0",
      "_view_name": "HBoxView",
      "box_style": "",
      "children": [
       "IPY_MODEL_c544ec400b7d46a78f32faa4df31eec7",
       "IPY_MODEL_4924a861c9d54431a012e280bcb3ec01"
      ],
      "layout": "IPY_MODEL_bfa6e35c63174f61bb10fa1fc1e049f1"
     }
    },
    "d756e5023b6e41d2975248980c902b15": {
     "model_module": "@jupyter-widgets/controls",
     "model_name": "ProgressStyleModel",
     "state": {
      "_model_module": "@jupyter-widgets/controls",
      "_model_module_version": "1.5.0",
      "_model_name": "ProgressStyleModel",
      "_view_count": null,
      "_view_module": "@jupyter-widgets/base",
      "_view_module_version": "1.2.0",
      "_view_name": "StyleView",
      "bar_color": null,
      "description_width": "initial"
     }
    },
    "d842ad5e71b94b46828f2671d379d6f4": {
     "model_module": "@jupyter-widgets/controls",
     "model_name": "ProgressStyleModel",
     "state": {
      "_model_module": "@jupyter-widgets/controls",
      "_model_module_version": "1.5.0",
      "_model_name": "ProgressStyleModel",
      "_view_count": null,
      "_view_module": "@jupyter-widgets/base",
      "_view_module_version": "1.2.0",
      "_view_name": "StyleView",
      "bar_color": null,
      "description_width": "initial"
     }
    },
    "de71544c8efc4aad98f66b1ddba9ea6c": {
     "model_module": "@jupyter-widgets/controls",
     "model_name": "DescriptionStyleModel",
     "state": {
      "_model_module": "@jupyter-widgets/controls",
      "_model_module_version": "1.5.0",
      "_model_name": "DescriptionStyleModel",
      "_view_count": null,
      "_view_module": "@jupyter-widgets/base",
      "_view_module_version": "1.2.0",
      "_view_name": "StyleView",
      "description_width": ""
     }
    },
    "e94c90f37a4445ecaa114e52f2001320": {
     "model_module": "@jupyter-widgets/base",
     "model_name": "LayoutModel",
     "state": {
      "_model_module": "@jupyter-widgets/base",
      "_model_module_version": "1.2.0",
      "_model_name": "LayoutModel",
      "_view_count": null,
      "_view_module": "@jupyter-widgets/base",
      "_view_module_version": "1.2.0",
      "_view_name": "LayoutView",
      "align_content": null,
      "align_items": null,
      "align_self": null,
      "border": null,
      "bottom": null,
      "display": null,
      "flex": null,
      "flex_flow": null,
      "grid_area": null,
      "grid_auto_columns": null,
      "grid_auto_flow": null,
      "grid_auto_rows": null,
      "grid_column": null,
      "grid_gap": null,
      "grid_row": null,
      "grid_template_areas": null,
      "grid_template_columns": null,
      "grid_template_rows": null,
      "height": null,
      "justify_content": null,
      "justify_items": null,
      "left": null,
      "margin": null,
      "max_height": null,
      "max_width": null,
      "min_height": null,
      "min_width": null,
      "object_fit": null,
      "object_position": null,
      "order": null,
      "overflow": null,
      "overflow_x": null,
      "overflow_y": null,
      "padding": null,
      "right": null,
      "top": null,
      "visibility": null,
      "width": null
     }
    },
    "f47e9da95cb942acaf016a266502aa1e": {
     "model_module": "@jupyter-widgets/base",
     "model_name": "LayoutModel",
     "state": {
      "_model_module": "@jupyter-widgets/base",
      "_model_module_version": "1.2.0",
      "_model_name": "LayoutModel",
      "_view_count": null,
      "_view_module": "@jupyter-widgets/base",
      "_view_module_version": "1.2.0",
      "_view_name": "LayoutView",
      "align_content": null,
      "align_items": null,
      "align_self": null,
      "border": null,
      "bottom": null,
      "display": null,
      "flex": null,
      "flex_flow": null,
      "grid_area": null,
      "grid_auto_columns": null,
      "grid_auto_flow": null,
      "grid_auto_rows": null,
      "grid_column": null,
      "grid_gap": null,
      "grid_row": null,
      "grid_template_areas": null,
      "grid_template_columns": null,
      "grid_template_rows": null,
      "height": null,
      "justify_content": null,
      "justify_items": null,
      "left": null,
      "margin": null,
      "max_height": null,
      "max_width": null,
      "min_height": null,
      "min_width": null,
      "object_fit": null,
      "object_position": null,
      "order": null,
      "overflow": null,
      "overflow_x": null,
      "overflow_y": null,
      "padding": null,
      "right": null,
      "top": null,
      "visibility": null,
      "width": null
     }
    }
   }
  }
 },
 "nbformat": 4,
 "nbformat_minor": 1
}
