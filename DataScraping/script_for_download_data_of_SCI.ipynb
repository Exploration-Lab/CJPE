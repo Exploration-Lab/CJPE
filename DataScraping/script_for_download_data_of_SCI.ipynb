{
 "cells": [
  {
   "cell_type": "code",
   "execution_count": 0,
   "metadata": {
    "colab": {},
    "colab_type": "code",
    "id": "k9FyTv0k5DUo"
   },
   "outputs": [],
   "source": [
    "import os\n",
    "import urllib\n",
    "import urllib.request\n",
    "import json\n",
    "import requests\n",
    "from bs4 import BeautifulSoup\n",
    "import pandas as pd\n",
    "import time\n",
    "import progressbar"
   ]
  },
  {
   "cell_type": "code",
   "execution_count": null,
   "metadata": {},
   "outputs": [],
   "source": [
    "path_of_Supreme_court_json_file = \"links_Supreme_Court.json\" #path of Links of Supreme Court json file"
   ]
  },
  {
   "cell_type": "code",
   "execution_count": null,
   "metadata": {
    "colab": {
     "base_uri": "https://localhost:8080/",
     "height": 1000
    },
    "colab_type": "code",
    "id": "nHO3gX5_5DU1",
    "outputId": "638f3888-e605-4195-fefe-76585fbc2938"
   },
   "outputs": [],
   "source": [
    "links_json = json.load(path_of_Supreme_court_json_file)\n",
    "category = 'Supreme Court of India'\n",
    "print(\"Started file ... {0} with docs = {1}\\n\\n\\n\".format(json_file,len(links_json[category])))\n",
    "category_links = links_json[category]\n",
    "year = json_file[len(json_file)-9:len(json_file)-5] # Obtain the name of year like '1947' or '2002'\n",
    "ndocs = 0\n",
    "os.mkdir('Yearwise_data/'+ year)\n",
    "\n",
    "while(len(category_links)>0):\n",
    "  time.sleep(2) \n",
    "  links_done_in_this_loop = []\n",
    "  for i in progressbar.progressbar(range(len(category_links))):\n",
    "      BASE_URL = category_links[i]\n",
    "      try:\n",
    "          html = urllib.request.urlopen(BASE_URL).read()\n",
    "      except urllib.error.HTTPError:\n",
    "          print(\"Ocuured at doc\",ndocs)\n",
    "          time.sleep(2)\n",
    "\n",
    "      else:\n",
    "          soup = BeautifulSoup(html, \"lxml\")\n",
    "          data_html = soup.find(\"div\", attrs={\"class\": \"judgments\"})\n",
    "          text = data_html.get_text()\n",
    "          path =  'Yearwise_data/' + year + '/' + year +'_' +str(ndocs) # Path where the yearwise data file will save\n",
    "          f= open(path,\"w+\")\n",
    "          f.write(text)\n",
    "          ndocs = ndocs+1\n",
    "          links_done_in_this_loop.append(BASE_URL)\n",
    "          if(ndocs%100==0):\n",
    "              time.sleep(2)          # If number of documents downloaded is 100 then go for sleep for 2 sec\n",
    "  for link in links_done_in_this_loop:\n",
    "      category_links.remove(link)\n",
    "  print(\"Docs that were downloaded: {0}\\n\\n\\n\".format(ndocs))"
   ]
  }
 ],
 "metadata": {
  "colab": {
   "name": "script_for_download_data_of_SCI.ipynb",
   "provenance": []
  },
  "kernelspec": {
   "display_name": "Python 3",
   "language": "python",
   "name": "python3"
  },
  "language_info": {
   "codemirror_mode": {
    "name": "ipython",
    "version": 3
   },
   "file_extension": ".py",
   "mimetype": "text/x-python",
   "name": "python",
   "nbconvert_exporter": "python",
   "pygments_lexer": "ipython3",
   "version": "3.7.7"
  }
 },
 "nbformat": 4,
 "nbformat_minor": 1
}
